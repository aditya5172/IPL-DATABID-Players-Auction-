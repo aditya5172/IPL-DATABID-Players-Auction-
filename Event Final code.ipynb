{
 "cells": [
  {
   "cell_type": "code",
   "execution_count": 1,
   "metadata": {},
   "outputs": [],
   "source": [
    "import pandas as pd\n",
    "import numpy as np\n",
    "import time\n",
    "from datetime import datetime"
   ]
  },
  {
   "cell_type": "code",
   "execution_count": 2,
   "metadata": {},
   "outputs": [],
   "source": [
    "players=pd.read_csv('https://docs.google.com/spreadsheets/d/1kj3GIhLYi6xklFo9XCIIHzBHp_AL4EZ4xtJ0HRGhRKk/gviz/tq?tqx=out:csv')"
   ]
  },
  {
   "cell_type": "code",
   "execution_count": 3,
   "metadata": {},
   "outputs": [],
   "source": [
    "z=[]\n",
    "for i in range(len(players)):\n",
    "    z.append(players['Matches Played Together'][i]+players['Matches Played As Opponents'][i])"
   ]
  },
  {
   "cell_type": "code",
   "execution_count": 4,
   "metadata": {},
   "outputs": [
    {
     "data": {
      "text/html": [
       "<div>\n",
       "<style scoped>\n",
       "    .dataframe tbody tr th:only-of-type {\n",
       "        vertical-align: middle;\n",
       "    }\n",
       "\n",
       "    .dataframe tbody tr th {\n",
       "        vertical-align: top;\n",
       "    }\n",
       "\n",
       "    .dataframe thead th {\n",
       "        text-align: right;\n",
       "    }\n",
       "</style>\n",
       "<table border=\"1\" class=\"dataframe\">\n",
       "  <thead>\n",
       "    <tr style=\"text-align: right;\">\n",
       "      <th></th>\n",
       "      <th>Player 1</th>\n",
       "      <th>Player 2</th>\n",
       "      <th>Matches Played Together</th>\n",
       "      <th>Matches Played As Opponents</th>\n",
       "      <th>Stats Points Player 1</th>\n",
       "      <th>Stats Points Player 2</th>\n",
       "      <th>Score_for_chem</th>\n",
       "    </tr>\n",
       "  </thead>\n",
       "  <tbody>\n",
       "    <tr>\n",
       "      <th>0</th>\n",
       "      <td>MS Dhoni</td>\n",
       "      <td>SK Raina</td>\n",
       "      <td>165</td>\n",
       "      <td>4</td>\n",
       "      <td>0.0</td>\n",
       "      <td>0.0</td>\n",
       "      <td>1.000000</td>\n",
       "    </tr>\n",
       "    <tr>\n",
       "      <th>1</th>\n",
       "      <td>SK Raina</td>\n",
       "      <td>MS Dhoni</td>\n",
       "      <td>165</td>\n",
       "      <td>4</td>\n",
       "      <td>0.0</td>\n",
       "      <td>0.0</td>\n",
       "      <td>1.000000</td>\n",
       "    </tr>\n",
       "    <tr>\n",
       "      <th>2</th>\n",
       "      <td>AB de Villiers</td>\n",
       "      <td>V Kohli</td>\n",
       "      <td>151</td>\n",
       "      <td>3</td>\n",
       "      <td>0.0</td>\n",
       "      <td>0.0</td>\n",
       "      <td>0.911243</td>\n",
       "    </tr>\n",
       "    <tr>\n",
       "      <th>3</th>\n",
       "      <td>V Kohli</td>\n",
       "      <td>AB de Villiers</td>\n",
       "      <td>151</td>\n",
       "      <td>3</td>\n",
       "      <td>0.0</td>\n",
       "      <td>0.0</td>\n",
       "      <td>0.911243</td>\n",
       "    </tr>\n",
       "    <tr>\n",
       "      <th>4</th>\n",
       "      <td>KA Pollard</td>\n",
       "      <td>RG Sharma</td>\n",
       "      <td>149</td>\n",
       "      <td>2</td>\n",
       "      <td>0.5</td>\n",
       "      <td>1.5</td>\n",
       "      <td>0.893491</td>\n",
       "    </tr>\n",
       "    <tr>\n",
       "      <th>...</th>\n",
       "      <td>...</td>\n",
       "      <td>...</td>\n",
       "      <td>...</td>\n",
       "      <td>...</td>\n",
       "      <td>...</td>\n",
       "      <td>...</td>\n",
       "      <td>...</td>\n",
       "    </tr>\n",
       "    <tr>\n",
       "      <th>375764</th>\n",
       "      <td>Z Khan</td>\n",
       "      <td>YS Chahal</td>\n",
       "      <td>0</td>\n",
       "      <td>6</td>\n",
       "      <td>0.0</td>\n",
       "      <td>0.0</td>\n",
       "      <td>0.035503</td>\n",
       "    </tr>\n",
       "    <tr>\n",
       "      <th>375765</th>\n",
       "      <td>Z Khan</td>\n",
       "      <td>YV Takawale</td>\n",
       "      <td>0</td>\n",
       "      <td>0</td>\n",
       "      <td>0.0</td>\n",
       "      <td>0.0</td>\n",
       "      <td>0.000000</td>\n",
       "    </tr>\n",
       "    <tr>\n",
       "      <th>375766</th>\n",
       "      <td>Z Khan</td>\n",
       "      <td>Yashpal Singh</td>\n",
       "      <td>0</td>\n",
       "      <td>1</td>\n",
       "      <td>0.0</td>\n",
       "      <td>0.0</td>\n",
       "      <td>0.005917</td>\n",
       "    </tr>\n",
       "    <tr>\n",
       "      <th>375767</th>\n",
       "      <td>Z Khan</td>\n",
       "      <td>Younis Khan</td>\n",
       "      <td>0</td>\n",
       "      <td>0</td>\n",
       "      <td>0.0</td>\n",
       "      <td>0.0</td>\n",
       "      <td>0.000000</td>\n",
       "    </tr>\n",
       "    <tr>\n",
       "      <th>375768</th>\n",
       "      <td>Z Khan</td>\n",
       "      <td>Z Khan</td>\n",
       "      <td>0</td>\n",
       "      <td>0</td>\n",
       "      <td>0.0</td>\n",
       "      <td>0.0</td>\n",
       "      <td>0.000000</td>\n",
       "    </tr>\n",
       "  </tbody>\n",
       "</table>\n",
       "<p>375769 rows × 7 columns</p>\n",
       "</div>"
      ],
      "text/plain": [
       "              Player 1        Player 2  Matches Played Together  \\\n",
       "0             MS Dhoni        SK Raina                      165   \n",
       "1             SK Raina        MS Dhoni                      165   \n",
       "2       AB de Villiers         V Kohli                      151   \n",
       "3              V Kohli  AB de Villiers                      151   \n",
       "4           KA Pollard       RG Sharma                      149   \n",
       "...                ...             ...                      ...   \n",
       "375764          Z Khan       YS Chahal                        0   \n",
       "375765          Z Khan     YV Takawale                        0   \n",
       "375766          Z Khan   Yashpal Singh                        0   \n",
       "375767          Z Khan     Younis Khan                        0   \n",
       "375768          Z Khan          Z Khan                        0   \n",
       "\n",
       "        Matches Played As Opponents  Stats Points Player 1  \\\n",
       "0                                 4                    0.0   \n",
       "1                                 4                    0.0   \n",
       "2                                 3                    0.0   \n",
       "3                                 3                    0.0   \n",
       "4                                 2                    0.5   \n",
       "...                             ...                    ...   \n",
       "375764                            6                    0.0   \n",
       "375765                            0                    0.0   \n",
       "375766                            1                    0.0   \n",
       "375767                            0                    0.0   \n",
       "375768                            0                    0.0   \n",
       "\n",
       "        Stats Points Player 2  Score_for_chem  \n",
       "0                         0.0        1.000000  \n",
       "1                         0.0        1.000000  \n",
       "2                         0.0        0.911243  \n",
       "3                         0.0        0.911243  \n",
       "4                         1.5        0.893491  \n",
       "...                       ...             ...  \n",
       "375764                    0.0        0.035503  \n",
       "375765                    0.0        0.000000  \n",
       "375766                    0.0        0.005917  \n",
       "375767                    0.0        0.000000  \n",
       "375768                    0.0        0.000000  \n",
       "\n",
       "[375769 rows x 7 columns]"
      ]
     },
     "execution_count": 4,
     "metadata": {},
     "output_type": "execute_result"
    }
   ],
   "source": [
    "b = (z - np.min(z))/np.ptp(z)\n",
    "b=list(b)\n",
    "players['Score_for_chem']=b\n",
    "players"
   ]
  },
  {
   "cell_type": "code",
   "execution_count": 5,
   "metadata": {},
   "outputs": [],
   "source": [
    "def chemistry(x,y):\n",
    "    X=players[players['Player 1']==x]\n",
    "    Y=X[X['Player 2']==y]\n",
    "    return Y['Score_for_chem'].values[0]"
   ]
  },
  {
   "cell_type": "code",
   "execution_count": 6,
   "metadata": {},
   "outputs": [
    {
     "data": {
      "text/plain": [
       "0.10059171597633136"
      ]
     },
     "execution_count": 6,
     "metadata": {},
     "output_type": "execute_result"
    }
   ],
   "source": [
    "chemistry('Yuvraj Singh','MS Dhoni')"
   ]
  },
  {
   "cell_type": "code",
   "execution_count": 7,
   "metadata": {},
   "outputs": [],
   "source": [
    "def one_vs_team_experience_score(x,y):\n",
    "    c=0\n",
    "    s=0\n",
    "    for i in y:\n",
    "        X=players[players['Player 1']==x]\n",
    "        Y=X[X['Player 2']==i]\n",
    "        z=Y['Score_for_chem'].values[0]\n",
    "        if z!=0:\n",
    "            c+=1\n",
    "            s+=z\n",
    "    try:\n",
    "        m=s/c\n",
    "    except:\n",
    "        m=0\n",
    "    return m\n",
    "    \n",
    "\n",
    "    "
   ]
  },
  {
   "cell_type": "code",
   "execution_count": 8,
   "metadata": {},
   "outputs": [
    {
     "data": {
      "text/plain": [
       "0.06993006993006992"
      ]
     },
     "execution_count": 8,
     "metadata": {},
     "output_type": "execute_result"
    }
   ],
   "source": [
    "one_vs_team_experience_score('MS Dhoni',['Shubman Gill', 'VR Iyer', 'N Rana', 'SP Narine', 'EJG Morgan', 'KD Karthik', 'Shakib Al Hasan', 'RA Tripathi', 'LH Ferguson', 'Shivam Mavi', 'CV Varun'])"
   ]
  },
  {
   "cell_type": "code",
   "execution_count": 9,
   "metadata": {},
   "outputs": [],
   "source": [
    "def team_vs_team_experience_score(x,y):\n",
    "    s=0\n",
    "    for i in y:\n",
    "        #print(i,one_vs_team_experience_score(i,x))\n",
    "        s=s+one_vs_team_experience_score(i,y)\n",
    "    return s/11\n"
   ]
  },
  {
   "cell_type": "code",
   "execution_count": 10,
   "metadata": {},
   "outputs": [
    {
     "data": {
      "text/plain": [
       "0.06369015599784832"
      ]
     },
     "execution_count": 10,
     "metadata": {},
     "output_type": "execute_result"
    }
   ],
   "source": [
    "team_vs_team_experience_score(['D Padikkal', 'V Kohli', 'KS Bharat', 'GJ Maxwell', 'AB de Villiers', 'Shahbaz Ahmed', 'DT Christian', 'HV Patel', 'GHS Garton', 'Mohammed Siraj', 'YS Chahal'],\n",
    "                              ['JJ Roy', 'Abhishek Sharma', 'MK Pandey', 'Mohammad Nabi', 'Abdul Samad', 'PK Garg', 'JO Holder', 'Rashid Khan', 'WP Saha', 'S Kaul', 'Umran Malik'])"
   ]
  },
  {
   "cell_type": "code",
   "execution_count": 11,
   "metadata": {},
   "outputs": [],
   "source": [
    "def stats(x,y):\n",
    "    X=players[players['Player 1']==x]\n",
    "    Y=X[X['Player 2']==y]\n",
    "    return Y['Stats Points Player 1'].values[0]"
   ]
  },
  {
   "cell_type": "code",
   "execution_count": 12,
   "metadata": {},
   "outputs": [
    {
     "data": {
      "text/plain": [
       "0.2"
      ]
     },
     "execution_count": 12,
     "metadata": {},
     "output_type": "execute_result"
    }
   ],
   "source": [
    "stats('RA Jadeja','MS Dhoni')"
   ]
  },
  {
   "cell_type": "code",
   "execution_count": 13,
   "metadata": {},
   "outputs": [],
   "source": [
    "def one_vs_team_stats(x,y):\n",
    "    s=0\n",
    "    for i in y:\n",
    "        #print((i,stats(x,i)))\n",
    "        s=s+stats(x,i)\n",
    "    return s"
   ]
  },
  {
   "cell_type": "code",
   "execution_count": 14,
   "metadata": {},
   "outputs": [
    {
     "data": {
      "text/plain": [
       "0.04761904762"
      ]
     },
     "execution_count": 14,
     "metadata": {},
     "output_type": "execute_result"
    }
   ],
   "source": [
    "one_vs_team_stats('V Kohli',['JJ Roy', 'Abhishek Sharma', 'MK Pandey', 'Mohammad Nabi', 'Abdul Samad', 'PK Garg', 'JO Holder', 'Rashid Khan', 'WP Saha', 'S Kaul', 'Umran Malik'])"
   ]
  },
  {
   "cell_type": "code",
   "execution_count": 15,
   "metadata": {},
   "outputs": [],
   "source": [
    "def team_vs_team_stats(x,y):\n",
    "    s=0\n",
    "    for i in x:\n",
    "        #print(i,one_vs_team_stats(i,y))\n",
    "        s=s+one_vs_team_stats(i,y)\n",
    "    return s"
   ]
  },
  {
   "cell_type": "code",
   "execution_count": 16,
   "metadata": {},
   "outputs": [
    {
     "data": {
      "text/plain": [
       "27.26906657312"
      ]
     },
     "execution_count": 16,
     "metadata": {},
     "output_type": "execute_result"
    }
   ],
   "source": [
    "team_vs_team_stats(['D Padikkal', 'V Kohli', 'KS Bharat', 'GJ Maxwell', 'AB de Villiers', 'Shahbaz Ahmed', 'DT Christian', 'HV Patel', 'GHS Garton', 'Mohammed Siraj', 'YS Chahal'],\n",
    "                   ['JJ Roy', 'Abhishek Sharma', 'MK Pandey', 'Mohammad Nabi', 'Abdul Samad', 'PK Garg', 'JO Holder', 'Rashid Khan', 'WP Saha', 'S Kaul', 'Umran Malik'])"
   ]
  },
  {
   "cell_type": "code",
   "execution_count": 17,
   "metadata": {},
   "outputs": [],
   "source": [
    "#https://docs.google.com/spreadsheets/d/1MlYYb_5VFZTot9-1GCGfvrFuyo0guyT0St5btkvG1tA/gviz/tq?tqx=out:csv\n",
    "def teams(team,player):\n",
    "    x={}\n",
    "    teams=pd.read_csv('https://docs.google.com/spreadsheets/d/1MlYYb_5VFZTot9-1GCGfvrFuyo0guyT0St5btkvG1tA/gviz/tq?tqx=out:csv')\n",
    "    x['CSK']=list(teams[teams['CSK']==1]['Name'].values)\n",
    "    x['RCB']=list(teams[teams['RCB']==1]['Name'].values)\n",
    "    x['SRH']=list(teams[teams['SRH']==1]['Name'].values)\n",
    "    x['GT']=list(teams[teams['GT']==1]['Name'].values)\n",
    "    x['LSG']=list(teams[teams['LSG']==1]['Name'].values)\n",
    "    x['MI']=list(teams[teams['MI']==1]['Name'].values)\n",
    "    x['KKR']=list(teams[teams['KKR']==1]['Name'].values)\n",
    "    x['PK']=list(teams[teams['PK']==1]['Name'].values)\n",
    "    x['DC']=list(teams[teams['DC']==1]['Name'].values)\n",
    "    x['RR']=list(teams[teams['RR']==1]['Name'].values)\n",
    "    #print(list(x.keys()))\n",
    "    return test_player_in_team(team,player,x)"
   ]
  },
  {
   "cell_type": "code",
   "execution_count": 18,
   "metadata": {},
   "outputs": [],
   "source": [
    "def test_player_in_team(team,player,y):\n",
    "    #player='NLTC Perera'\n",
    "    #team='RR'\n",
    "    y[team].append(player)\n",
    "    \n",
    "    m=[i for i in y.keys() if i!=team]\n",
    "    z={'Against Team':[],'Experience Score':[],'Stats Score':[],'Overall':[]}\n",
    "    for i in m:\n",
    "        a=team_vs_team_experience_score(y[team],y[i])\n",
    "        b=team_vs_team_stats(y[team],y[i])\n",
    "        z['Against Team'].append(i)\n",
    "        z['Experience Score'].append(a)\n",
    "        z['Stats Score'].append(b)\n",
    "        z['Overall'].append(a+b)\n",
    "    z=pd.DataFrame(z)\n",
    "    return z\n",
    "    "
   ]
  },
  {
   "cell_type": "code",
   "execution_count": 19,
   "metadata": {},
   "outputs": [],
   "source": [
    "p=pd.read_csv('https://docs.google.com/spreadsheets/d/1kj3GIhLYi6xklFo9XCIIHzBHp_AL4EZ4xtJ0HRGhRKk/gviz/tq?tqx=out:csv')\n",
    "m=pd.read_csv('https://docs.google.com/spreadsheets/d/1zhpcj7_6Uq96UDNEi3ZS-bu5B3AXCXSRDeiHy0nvvfE/gviz/tq?tqx=out:csv')"
   ]
  },
  {
   "cell_type": "code",
   "execution_count": 20,
   "metadata": {},
   "outputs": [],
   "source": [
    "from tkinter import *\n",
    "import numpy as np\n",
    "import pandas as pd\n",
    "from tkinter import Tk, Button, Frame, StringVar\n",
    "from tkinter.ttk import Combobox\n",
    "from tkinter import ttk  \n",
    "\n"
   ]
  },
  {
   "cell_type": "code",
   "execution_count": 21,
   "metadata": {},
   "outputs": [],
   "source": [
    "#this for player\n",
    "p_unique_1 = set(p['Player 1'])\n",
    "p_lst_1 = list(p_unique_1)\n",
    "p_lst_1.sort()\n",
    "\n",
    "\n",
    "#this for team\n",
    "#t_unique_1 = set(m['Team1'])\n",
    "t_lst_1 = ['CSK', 'RCB', 'SRH', 'GT', 'LSG', 'MI', 'KKR', 'PK', 'DC', 'RR']\n",
    "t_lst_1.sort()"
   ]
  },
  {
   "cell_type": "code",
   "execution_count": 22,
   "metadata": {},
   "outputs": [
    {
     "name": "stdout",
     "output_type": "stream",
     "text": [
      "For KMA Paul in PK team\n",
      "  Against Team  Experience Score  Stats Score   Overall\n",
      "0          CSK          0.013717     2.991639  3.005356\n",
      "1          RCB          0.038999     5.259221  5.298220\n",
      "2          SRH          0.002690     5.600000  5.602690\n",
      "3           GT          0.010265     9.157270  9.167535\n",
      "4          LSG          0.001614     4.502525  4.504139\n",
      "5           MI          0.004303     2.916667  2.920970\n",
      "6          KKR          0.009683     0.833333  0.843016\n",
      "7           DC          0.001076     3.694118  3.695193\n",
      "8           RR          0.019769     4.677102  4.696871\n"
     ]
    }
   ],
   "source": [
    "root = Tk()\n",
    "def get_info():\n",
    "    top = Toplevel()\n",
    "    team=cb1_var.get()\n",
    "    player=cb2_var.get()\n",
    "    #print(\"For {} in {} team\".format(player,team))\n",
    "    x=teams(team,player)\n",
    "    text=Text(top,width=80, height=15)\n",
    "    text.insert(END,x)\n",
    "    text.pack()\n",
    "    #print(x)\n",
    "\n",
    "cb_frame = Frame(root)\n",
    "cb_frame.pack(side='left')\n",
    "root.geometry(\"400x600\")\n",
    "\n",
    "cb1_var = StringVar()\n",
    "#cb1_var.set(options[cb1_values[0]][1])\n",
    "cb1 = Combobox(cb_frame, values=t_lst_1, textvariable=cb1_var)\n",
    "cb1.pack(side='top')\n",
    "#cb1.bind('<<ComboboxSelected>>', get_var_1)\n",
    "\n",
    "\n",
    "cb2_var = StringVar()\n",
    "#cb2_var.set(options[cb1_values[0]][0])\n",
    "cb2 = Combobox(cb_frame, values=p_lst_1, textvariable=cb2_var)\n",
    "cb2.pack(side='bottom')\n",
    "\n",
    "\n",
    "\n",
    "btn_frame = Frame(root)\n",
    "btn_frame.pack(side='right')\n",
    "Button(btn_frame, text='Confirm', command=get_info).pack()\n",
    "\n",
    "\n",
    "root.mainloop()"
   ]
  },
  {
   "cell_type": "code",
   "execution_count": 24,
   "metadata": {},
   "outputs": [],
   "source": [
    "import gspread"
   ]
  },
  {
   "cell_type": "code",
   "execution_count": 26,
   "metadata": {},
   "outputs": [],
   "source": [
    "gs=gspread.service_account('C:\\\\Users\\\\adity\\\\OneDrive\\\\Documents\\\\Sheets API\\\\IPL DATABID.json')"
   ]
  },
  {
   "cell_type": "code",
   "execution_count": 32,
   "metadata": {},
   "outputs": [],
   "source": [
    "sh=gs.open_by_key('1CAK2ITU8vD90NtOn120dErdYk3CCdof35VbMMV77tN0').sheet1"
   ]
  },
  {
   "cell_type": "code",
   "execution_count": 37,
   "metadata": {},
   "outputs": [
    {
     "data": {
      "text/plain": [
       "{'spreadsheetId': '1CAK2ITU8vD90NtOn120dErdYk3CCdof35VbMMV77tN0',\n",
       " 'tableRange': 'Sheet1!A1:C2',\n",
       " 'updates': {'spreadsheetId': '1CAK2ITU8vD90NtOn120dErdYk3CCdof35VbMMV77tN0',\n",
       "  'updatedRange': 'Sheet1!A3:C3',\n",
       "  'updatedRows': 1,\n",
       "  'updatedColumns': 3,\n",
       "  'updatedCells': 3}}"
      ]
     },
     "execution_count": 37,
     "metadata": {},
     "output_type": "execute_result"
    }
   ],
   "source": [
    "sh.append_row(['T Boult','Sold','CSK'])"
   ]
  },
  {
   "cell_type": "code",
   "execution_count": null,
   "metadata": {},
   "outputs": [],
   "source": [
    "#this for player\n",
    "p_unique_1 = set(p['Player 1'])\n",
    "p_lst_1 = list(p_unique_1)\n",
    "p_lst_1.sort()\n",
    "\n",
    "\n",
    "#this for team\n",
    "#t_unique_1 = set(m['Team1'])\n",
    "t_lst_1 = ['CSK', 'RCB', 'SRH', 'GT', 'LSG', 'MI', 'KKR', 'PK', 'DC', 'RR']\n",
    "t_lst_1.sort()"
   ]
  },
  {
   "cell_type": "code",
   "execution_count": null,
   "metadata": {},
   "outputs": [],
   "source": [
    "root=Tk()\n",
    "root.geometry(\"400x400\")\n",
    "def selected(event):\n",
    "    a=clicked.get()\n",
    "    b=clicked2.get()\n",
    "    if b=='Sold':\n",
    "        #c='aaa'\n",
    "        pass\n",
    "    else:\n",
    "        c='-'\n",
    "cb_frame = Frame(root)\n",
    "cb_frame.pack(side='left')\n",
    "cb1_var = StringVar()\n",
    "#cb1_var.set(options[cb1_values[0]][1])\n",
    "cb1 = Combobox(cb_frame, values=p_lst_1, textvariable=cb1_var)\n",
    "cb1.pack(side='top')\n",
    "cb1.bind('<<ComboboxSelected>>', get_var_1)"
   ]
  }
 ],
 "metadata": {
  "kernelspec": {
   "display_name": "Python 3",
   "language": "python",
   "name": "python3"
  },
  "language_info": {
   "codemirror_mode": {
    "name": "ipython",
    "version": 3
   },
   "file_extension": ".py",
   "mimetype": "text/x-python",
   "name": "python",
   "nbconvert_exporter": "python",
   "pygments_lexer": "ipython3",
   "version": "3.8.5"
  }
 },
 "nbformat": 4,
 "nbformat_minor": 4
}
