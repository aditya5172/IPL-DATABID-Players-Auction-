{
 "cells": [
  {
   "cell_type": "code",
   "execution_count": 1,
   "metadata": {},
   "outputs": [],
   "source": [
    "import pandas as pd\n",
    "import numpy as np\n",
    "import time\n",
    "from datetime import datetime"
   ]
  },
  {
   "cell_type": "code",
   "execution_count": 4,
   "metadata": {},
   "outputs": [],
   "source": [
    "players=pd.read_csv('https://docs.google.com/spreadsheets/d/1kj3GIhLYi6xklFo9XCIIHzBHp_AL4EZ4xtJ0HRGhRKk/gviz/tq?tqx=out:csv')"
   ]
  },
  {
   "cell_type": "code",
   "execution_count": 18,
   "metadata": {},
   "outputs": [],
   "source": [
    "z=[]\n",
    "for i in range(len(players)):\n",
    "    z.append(players['Matches Played Together'][i]+players['Matches Played As Opponents'][i])"
   ]
  },
  {
   "cell_type": "code",
   "execution_count": 36,
   "metadata": {},
   "outputs": [
    {
     "data": {
      "text/html": [
       "<div>\n",
       "<style scoped>\n",
       "    .dataframe tbody tr th:only-of-type {\n",
       "        vertical-align: middle;\n",
       "    }\n",
       "\n",
       "    .dataframe tbody tr th {\n",
       "        vertical-align: top;\n",
       "    }\n",
       "\n",
       "    .dataframe thead th {\n",
       "        text-align: right;\n",
       "    }\n",
       "</style>\n",
       "<table border=\"1\" class=\"dataframe\">\n",
       "  <thead>\n",
       "    <tr style=\"text-align: right;\">\n",
       "      <th></th>\n",
       "      <th>Player 1</th>\n",
       "      <th>Player 2</th>\n",
       "      <th>Matches Played Together</th>\n",
       "      <th>Matches Played As Opponents</th>\n",
       "      <th>Stats Points Player 1</th>\n",
       "      <th>Stats Points Player 2</th>\n",
       "      <th>Score_for_chem</th>\n",
       "    </tr>\n",
       "  </thead>\n",
       "  <tbody>\n",
       "    <tr>\n",
       "      <th>0</th>\n",
       "      <td>A Ashish Reddy</td>\n",
       "      <td>A Ashish Reddy</td>\n",
       "      <td>0</td>\n",
       "      <td>0</td>\n",
       "      <td>0.000000</td>\n",
       "      <td>0.0</td>\n",
       "      <td>0.000000</td>\n",
       "    </tr>\n",
       "    <tr>\n",
       "      <th>1</th>\n",
       "      <td>A Ashish Reddy</td>\n",
       "      <td>A Chandila</td>\n",
       "      <td>0</td>\n",
       "      <td>2</td>\n",
       "      <td>0.000000</td>\n",
       "      <td>0.0</td>\n",
       "      <td>0.011834</td>\n",
       "    </tr>\n",
       "    <tr>\n",
       "      <th>2</th>\n",
       "      <td>A Ashish Reddy</td>\n",
       "      <td>A Chopra</td>\n",
       "      <td>0</td>\n",
       "      <td>0</td>\n",
       "      <td>0.000000</td>\n",
       "      <td>0.0</td>\n",
       "      <td>0.000000</td>\n",
       "    </tr>\n",
       "    <tr>\n",
       "      <th>3</th>\n",
       "      <td>A Ashish Reddy</td>\n",
       "      <td>A Choudhary</td>\n",
       "      <td>0</td>\n",
       "      <td>0</td>\n",
       "      <td>0.000000</td>\n",
       "      <td>0.0</td>\n",
       "      <td>0.000000</td>\n",
       "    </tr>\n",
       "    <tr>\n",
       "      <th>4</th>\n",
       "      <td>A Ashish Reddy</td>\n",
       "      <td>A Dananjaya</td>\n",
       "      <td>0</td>\n",
       "      <td>0</td>\n",
       "      <td>0.000000</td>\n",
       "      <td>0.0</td>\n",
       "      <td>0.000000</td>\n",
       "    </tr>\n",
       "    <tr>\n",
       "      <th>...</th>\n",
       "      <td>...</td>\n",
       "      <td>...</td>\n",
       "      <td>...</td>\n",
       "      <td>...</td>\n",
       "      <td>...</td>\n",
       "      <td>...</td>\n",
       "      <td>...</td>\n",
       "    </tr>\n",
       "    <tr>\n",
       "      <th>375764</th>\n",
       "      <td>Z Khan</td>\n",
       "      <td>YV Takawale</td>\n",
       "      <td>0</td>\n",
       "      <td>0</td>\n",
       "      <td>0.000000</td>\n",
       "      <td>0.0</td>\n",
       "      <td>0.000000</td>\n",
       "    </tr>\n",
       "    <tr>\n",
       "      <th>375765</th>\n",
       "      <td>Z Khan</td>\n",
       "      <td>Yashpal Singh</td>\n",
       "      <td>0</td>\n",
       "      <td>1</td>\n",
       "      <td>0.000000</td>\n",
       "      <td>0.0</td>\n",
       "      <td>0.005917</td>\n",
       "    </tr>\n",
       "    <tr>\n",
       "      <th>375766</th>\n",
       "      <td>Z Khan</td>\n",
       "      <td>Younis Khan</td>\n",
       "      <td>0</td>\n",
       "      <td>0</td>\n",
       "      <td>0.000000</td>\n",
       "      <td>0.0</td>\n",
       "      <td>0.000000</td>\n",
       "    </tr>\n",
       "    <tr>\n",
       "      <th>375767</th>\n",
       "      <td>Z Khan</td>\n",
       "      <td>Yuvraj Singh</td>\n",
       "      <td>7</td>\n",
       "      <td>9</td>\n",
       "      <td>0.222222</td>\n",
       "      <td>1.0</td>\n",
       "      <td>0.094675</td>\n",
       "    </tr>\n",
       "    <tr>\n",
       "      <th>375768</th>\n",
       "      <td>Z Khan</td>\n",
       "      <td>Z Khan</td>\n",
       "      <td>0</td>\n",
       "      <td>0</td>\n",
       "      <td>0.000000</td>\n",
       "      <td>0.0</td>\n",
       "      <td>0.000000</td>\n",
       "    </tr>\n",
       "  </tbody>\n",
       "</table>\n",
       "<p>375769 rows × 7 columns</p>\n",
       "</div>"
      ],
      "text/plain": [
       "              Player 1        Player 2  Matches Played Together  \\\n",
       "0       A Ashish Reddy  A Ashish Reddy                        0   \n",
       "1       A Ashish Reddy      A Chandila                        0   \n",
       "2       A Ashish Reddy        A Chopra                        0   \n",
       "3       A Ashish Reddy     A Choudhary                        0   \n",
       "4       A Ashish Reddy     A Dananjaya                        0   \n",
       "...                ...             ...                      ...   \n",
       "375764          Z Khan     YV Takawale                        0   \n",
       "375765          Z Khan   Yashpal Singh                        0   \n",
       "375766          Z Khan     Younis Khan                        0   \n",
       "375767          Z Khan    Yuvraj Singh                        7   \n",
       "375768          Z Khan          Z Khan                        0   \n",
       "\n",
       "        Matches Played As Opponents  Stats Points Player 1  \\\n",
       "0                                 0               0.000000   \n",
       "1                                 2               0.000000   \n",
       "2                                 0               0.000000   \n",
       "3                                 0               0.000000   \n",
       "4                                 0               0.000000   \n",
       "...                             ...                    ...   \n",
       "375764                            0               0.000000   \n",
       "375765                            1               0.000000   \n",
       "375766                            0               0.000000   \n",
       "375767                            9               0.222222   \n",
       "375768                            0               0.000000   \n",
       "\n",
       "        Stats Points Player 2  Score_for_chem  \n",
       "0                         0.0        0.000000  \n",
       "1                         0.0        0.011834  \n",
       "2                         0.0        0.000000  \n",
       "3                         0.0        0.000000  \n",
       "4                         0.0        0.000000  \n",
       "...                       ...             ...  \n",
       "375764                    0.0        0.000000  \n",
       "375765                    0.0        0.005917  \n",
       "375766                    0.0        0.000000  \n",
       "375767                    1.0        0.094675  \n",
       "375768                    0.0        0.000000  \n",
       "\n",
       "[375769 rows x 7 columns]"
      ]
     },
     "execution_count": 36,
     "metadata": {},
     "output_type": "execute_result"
    }
   ],
   "source": [
    "b = (z - np.min(z))/np.ptp(z)\n",
    "b=list(b)\n",
    "players['Score_for_chem']=b\n",
    "players"
   ]
  },
  {
   "cell_type": "code",
   "execution_count": 47,
   "metadata": {},
   "outputs": [],
   "source": [
    "def chemistry(x,y):\n",
    "    X=players[players['Player 1']==x]\n",
    "    Y=X[X['Player 2']==y]\n",
    "    return Y['Score_for_chem'].values[0]"
   ]
  },
  {
   "cell_type": "code",
   "execution_count": 49,
   "metadata": {},
   "outputs": [
    {
     "data": {
      "text/plain": [
       "0.10059171597633136"
      ]
     },
     "execution_count": 49,
     "metadata": {},
     "output_type": "execute_result"
    }
   ],
   "source": [
    "chemistry('Yuvraj Singh','MS Dhoni')"
   ]
  },
  {
   "cell_type": "code",
   "execution_count": 59,
   "metadata": {},
   "outputs": [],
   "source": [
    "def one_vs_team_experience_score(x,y):\n",
    "    c=0\n",
    "    s=0\n",
    "    for i in y:\n",
    "        X=players[players['Player 1']==x]\n",
    "        Y=X[X['Player 2']==i]\n",
    "        z=Y['Score_for_chem'].values[0]\n",
    "        if z!=0:\n",
    "            c+=1\n",
    "            s+=z\n",
    "    try:\n",
    "        m=s/c\n",
    "    except:\n",
    "        m=0\n",
    "    return m\n",
    "    \n",
    "\n",
    "    "
   ]
  },
  {
   "cell_type": "code",
   "execution_count": 60,
   "metadata": {},
   "outputs": [
    {
     "data": {
      "text/plain": [
       "0.06993006993006992"
      ]
     },
     "execution_count": 60,
     "metadata": {},
     "output_type": "execute_result"
    }
   ],
   "source": [
    "one_vs_team_experience_score('MS Dhoni',['Shubman Gill', 'VR Iyer', 'N Rana', 'SP Narine', 'EJG Morgan', 'KD Karthik', 'Shakib Al Hasan', 'RA Tripathi', 'LH Ferguson', 'Shivam Mavi', 'CV Varun'])"
   ]
  },
  {
   "cell_type": "code",
   "execution_count": 67,
   "metadata": {},
   "outputs": [],
   "source": [
    "def team_vs_team_experience_score(x,y):\n",
    "    s=0\n",
    "    for i in y:\n",
    "        print(i,one_vs_team_experience_score(i,x))\n",
    "        s=s+one_vs_team_experience_score(i,y)\n",
    "    return s/11\n"
   ]
  },
  {
   "cell_type": "code",
   "execution_count": 68,
   "metadata": {},
   "outputs": [
    {
     "name": "stdout",
     "output_type": "stream",
     "text": [
      "JJ Roy 0.01452393760086068\n",
      "Abhishek Sharma 0.016137708445400755\n",
      "MK Pandey 0.07297830374753451\n",
      "Mohammad Nabi 0.011834319526627219\n",
      "Abdul Samad 0.01721355567509414\n",
      "PK Garg 0.011834319526627222\n",
      "JO Holder 0.017751479289940832\n",
      "Rashid Khan 0.03550295857988166\n",
      "WP Saha 0.06831629908552986\n",
      "S Kaul 0.022592791823561054\n",
      "Umran Malik 0.005917159763313611\n"
     ]
    },
    {
     "data": {
      "text/plain": [
       "0.06369015599784832"
      ]
     },
     "execution_count": 68,
     "metadata": {},
     "output_type": "execute_result"
    }
   ],
   "source": [
    "team_vs_team_experience_score(['D Padikkal', 'V Kohli', 'KS Bharat', 'GJ Maxwell', 'AB de Villiers', 'Shahbaz Ahmed', 'DT Christian', 'HV Patel', 'GHS Garton', 'Mohammed Siraj', 'YS Chahal'],\n",
    "                              ['JJ Roy', 'Abhishek Sharma', 'MK Pandey', 'Mohammad Nabi', 'Abdul Samad', 'PK Garg', 'JO Holder', 'Rashid Khan', 'WP Saha', 'S Kaul', 'Umran Malik'])"
   ]
  },
  {
   "cell_type": "code",
   "execution_count": 74,
   "metadata": {},
   "outputs": [],
   "source": [
    "def stats(x,y):\n",
    "    X=players[players['Player 1']==x]\n",
    "    Y=X[X['Player 2']==y]\n",
    "    return Y['Stats Points Player 1'].values[0]"
   ]
  },
  {
   "cell_type": "code",
   "execution_count": 75,
   "metadata": {},
   "outputs": [
    {
     "data": {
      "text/plain": [
       "0.2"
      ]
     },
     "execution_count": 75,
     "metadata": {},
     "output_type": "execute_result"
    }
   ],
   "source": [
    "stats('RA Jadeja','MS Dhoni')"
   ]
  },
  {
   "cell_type": "code",
   "execution_count": 93,
   "metadata": {},
   "outputs": [],
   "source": [
    "def one_vs_team_stats(x,y):\n",
    "    s=0\n",
    "    for i in y:\n",
    "        #print((i,stats(x,i)))\n",
    "        s=s+stats(x,i)\n",
    "    return s"
   ]
  },
  {
   "cell_type": "code",
   "execution_count": 94,
   "metadata": {},
   "outputs": [
    {
     "data": {
      "text/plain": [
       "0.04761904762"
      ]
     },
     "execution_count": 94,
     "metadata": {},
     "output_type": "execute_result"
    }
   ],
   "source": [
    "one_vs_team_stats('V Kohli',['JJ Roy', 'Abhishek Sharma', 'MK Pandey', 'Mohammad Nabi', 'Abdul Samad', 'PK Garg', 'JO Holder', 'Rashid Khan', 'WP Saha', 'S Kaul', 'Umran Malik'])"
   ]
  },
  {
   "cell_type": "code",
   "execution_count": 97,
   "metadata": {},
   "outputs": [],
   "source": [
    "def team_vs_team_stats(x,y):\n",
    "    s=0\n",
    "    for i in x:\n",
    "        #print(i,one_vs_team_stats(i,y))\n",
    "        s=s+one_vs_team_stats(i,y)\n",
    "    return s"
   ]
  },
  {
   "cell_type": "code",
   "execution_count": 98,
   "metadata": {},
   "outputs": [
    {
     "data": {
      "text/plain": [
       "27.26906657312"
      ]
     },
     "execution_count": 98,
     "metadata": {},
     "output_type": "execute_result"
    }
   ],
   "source": [
    "team_vs_team_stats(['D Padikkal', 'V Kohli', 'KS Bharat', 'GJ Maxwell', 'AB de Villiers', 'Shahbaz Ahmed', 'DT Christian', 'HV Patel', 'GHS Garton', 'Mohammed Siraj', 'YS Chahal'],\n",
    "                   ['JJ Roy', 'Abhishek Sharma', 'MK Pandey', 'Mohammad Nabi', 'Abdul Samad', 'PK Garg', 'JO Holder', 'Rashid Khan', 'WP Saha', 'S Kaul', 'Umran Malik'])"
   ]
  },
  {
   "cell_type": "code",
   "execution_count": 107,
   "metadata": {},
   "outputs": [],
   "source": [
    "#https://docs.google.com/spreadsheets/d/1MlYYb_5VFZTot9-1GCGfvrFuyo0guyT0St5btkvG1tA/gviz/tq?tqx=out:csv\n",
    "def teams():\n",
    "    x={}\n",
    "    teams=pd.read_csv('https://docs.google.com/spreadsheets/d/1MlYYb_5VFZTot9-1GCGfvrFuyo0guyT0St5btkvG1tA/gviz/tq?tqx=out:csv')\n",
    "    x['CSK']=list(teams[teams['CSK']==1]['Name'].values)\n",
    "    x['RCB']=list(teams[teams['RCB']==1]['Name'].values)\n",
    "    x['SRH']=list(teams[teams['SRH']==1]['Name'].values)\n",
    "    x['GT']=list(teams[teams['GT']==1]['Name'].values)\n",
    "    x['LSG']=list(teams[teams['LSG']==1]['Name'].values)\n",
    "    x['MI']=list(teams[teams['MI']==1]['Name'].values)\n",
    "    x['KKR']=list(teams[teams['KKR']==1]['Name'].values)\n",
    "    x['PK']=list(teams[teams['PK']==1]['Name'].values)\n",
    "    x['DC']=list(teams[teams['DC']==1]['Name'].values)\n",
    "    x['RR']=list(teams[teams['RR']==1]['Name'].values)\n",
    "    return x\n",
    "    "
   ]
  },
  {
   "cell_type": "code",
   "execution_count": null,
   "metadata": {},
   "outputs": [],
   "source": []
  }
 ],
 "metadata": {
  "kernelspec": {
   "display_name": "Python 3",
   "language": "python",
   "name": "python3"
  },
  "language_info": {
   "codemirror_mode": {
    "name": "ipython",
    "version": 3
   },
   "file_extension": ".py",
   "mimetype": "text/x-python",
   "name": "python",
   "nbconvert_exporter": "python",
   "pygments_lexer": "ipython3",
   "version": "3.8.5"
  }
 },
 "nbformat": 4,
 "nbformat_minor": 4
}
