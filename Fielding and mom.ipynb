{
 "cells": [
  {
   "cell_type": "code",
   "execution_count": 2,
   "metadata": {},
   "outputs": [],
   "source": [
    "import numpy as np\n",
    "import pandas as pd"
   ]
  },
  {
   "cell_type": "code",
   "execution_count": 3,
   "metadata": {},
   "outputs": [],
   "source": [
    "match=pd.read_csv('https://docs.google.com/spreadsheets/d/1zhpcj7_6Uq96UDNEi3ZS-bu5B3AXCXSRDeiHy0nvvfE/gviz/tq?tqx=out:csv')\n",
    "ball=pd.read_csv('https://docs.google.com/spreadsheets/d/1gFMly7K_tLPa2fdsImuCHPZ5o7BuXkL8C6jKmb6UuW0/gviz/tq?tqx=out:csv')"
   ]
  },
  {
   "cell_type": "code",
   "execution_count": 8,
   "metadata": {},
   "outputs": [
    {
     "data": {
      "text/plain": [
       "MS Dhoni          186\n",
       "KD Karthik        170\n",
       "AB de Villiers    141\n",
       "RV Uthappa        127\n",
       "SK Raina          119\n",
       "                 ... \n",
       "RG More             1\n",
       "T Mishra            1\n",
       "BW Hilfenhaus       1\n",
       "AN Ghosh            1\n",
       "R Powell            1\n",
       "Name: fielders_involved, Length: 498, dtype: int64"
      ]
     },
     "execution_count": 8,
     "metadata": {},
     "output_type": "execute_result"
    }
   ],
   "source": [
    "ball['fielders_involved'].value_counts()"
   ]
  },
  {
   "cell_type": "code",
   "execution_count": 41,
   "metadata": {},
   "outputs": [
    {
     "data": {
      "text/plain": [
       "array([nan, 'caught', 'lbw', 'bowled', 'run out', 'caught and bowled',\n",
       "       'stumped', 'retired hurt', 'hit wicket', 'obstructing the field'],\n",
       "      dtype=object)"
      ]
     },
     "execution_count": 41,
     "metadata": {},
     "output_type": "execute_result"
    }
   ],
   "source": [
    "ball['kind'].unique()"
   ]
  },
  {
   "cell_type": "code",
   "execution_count": 61,
   "metadata": {},
   "outputs": [],
   "source": [
    "field={'Name':[],'caught':[],'run out':[],'stumped':[]}\n",
    "field=pd.DataFrame(field)"
   ]
  },
  {
   "cell_type": "code",
   "execution_count": 62,
   "metadata": {},
   "outputs": [],
   "source": [
    "#caught\n",
    "ball_caught=ball[ball['kind']=='caught']\n",
    "k=ball_caught['fielders_involved'].value_counts().keys()\n",
    "v=ball_caught['fielders_involved'].value_counts().values\n",
    "c={}\n",
    "for i in range(len(k)):\n",
    "     c[k[i]]=v[i]"
   ]
  },
  {
   "cell_type": "code",
   "execution_count": 63,
   "metadata": {},
   "outputs": [],
   "source": [
    "#run out\n",
    "ball_r_o=ball[ball['kind']=='run out']\n",
    "k=ball_r_o['fielders_involved'].value_counts().keys()\n",
    "v=ball_r_o['fielders_involved'].value_counts().values\n",
    "r_o={}\n",
    "for i in range(len(k)):\n",
    "     r_o[k[i]]=v[i]"
   ]
  },
  {
   "cell_type": "code",
   "execution_count": 64,
   "metadata": {},
   "outputs": [],
   "source": [
    "#stumped\n",
    "ball_s=ball[ball['kind']=='stumped']\n",
    "k=ball_s['fielders_involved'].value_counts().keys()\n",
    "v=ball_s['fielders_involved'].value_counts().values\n",
    "s={}\n",
    "for i in range(len(k)):\n",
    "    s[k[i]]=v[i]"
   ]
  },
  {
   "cell_type": "code",
   "execution_count": 65,
   "metadata": {},
   "outputs": [],
   "source": [
    "for i in c.keys():\n",
    "    if i in list(field['Name']):\n",
    "        temp=field[field['Name']==i].index\n",
    "        field['caught'][index]=c[i]\n",
    "    else:\n",
    "        field.loc[len(field.index)] = [i,c[i],0,0] \n"
   ]
  },
  {
   "cell_type": "code",
   "execution_count": 75,
   "metadata": {},
   "outputs": [
    {
     "name": "stderr",
     "output_type": "stream",
     "text": [
      "<ipython-input-75-d95f97cd88bf>:4: SettingWithCopyWarning: \n",
      "A value is trying to be set on a copy of a slice from a DataFrame\n",
      "\n",
      "See the caveats in the documentation: https://pandas.pydata.org/pandas-docs/stable/user_guide/indexing.html#returning-a-view-versus-a-copy\n",
      "  field['run out'][temp]=r_o[i]\n",
      "C:\\Users\\adity\\anaconda3\\lib\\site-packages\\pandas\\core\\indexing.py:670: SettingWithCopyWarning: \n",
      "A value is trying to be set on a copy of a slice from a DataFrame\n",
      "\n",
      "See the caveats in the documentation: https://pandas.pydata.org/pandas-docs/stable/user_guide/indexing.html#returning-a-view-versus-a-copy\n",
      "  iloc._setitem_with_indexer(indexer, value)\n"
     ]
    }
   ],
   "source": [
    "for i in r_o.keys():\n",
    "    if i in list(field['Name']):\n",
    "        temp=field[field['Name']==i].index\n",
    "        field['run out'][temp]=r_o[i]\n",
    "    else:\n",
    "        field.loc[len(field.index)] = [i,0,r_o[i],0] \n"
   ]
  },
  {
   "cell_type": "code",
   "execution_count": 76,
   "metadata": {},
   "outputs": [
    {
     "name": "stderr",
     "output_type": "stream",
     "text": [
      "<ipython-input-76-f9b33ccc3c6d>:4: SettingWithCopyWarning: \n",
      "A value is trying to be set on a copy of a slice from a DataFrame\n",
      "\n",
      "See the caveats in the documentation: https://pandas.pydata.org/pandas-docs/stable/user_guide/indexing.html#returning-a-view-versus-a-copy\n",
      "  field['stumped'][temp]=s[i]\n"
     ]
    }
   ],
   "source": [
    "for i in s.keys():\n",
    "    if i in list(field['Name']):\n",
    "        temp=field[field['Name']==i].index\n",
    "        field['stumped'][temp]=s[i]\n",
    "    else:\n",
    "        field.loc[len(field.index)] = [i,0,0,s[i]] \n"
   ]
  },
  {
   "cell_type": "code",
   "execution_count": 79,
   "metadata": {},
   "outputs": [],
   "source": [
    "#field.to_excel('C:\\\\Users\\\\adity\\\\OneDrive\\\\Documents\\\\Python Scripts\\\\LiT DaC\\\\Fielding points.xlsx',index=False)"
   ]
  },
  {
   "cell_type": "code",
   "execution_count": 101,
   "metadata": {},
   "outputs": [],
   "source": [
    "d=field[field['stumped']>0]\n",
    "d=d.reset_index(inplace=False).drop(['index'],axis=1)\n",
    "#d.to_excel('C:\\\\Users\\\\adity\\\\OneDrive\\\\Documents\\\\Python Scripts\\\\LiT DaC\\\\Wicket Keepers.xlsx',index=False)"
   ]
  },
  {
   "cell_type": "code",
   "execution_count": 110,
   "metadata": {},
   "outputs": [],
   "source": [
    "x=match['Player_of_Match'].value_counts().keys()\n",
    "y=match['Player_of_Match'].value_counts().values"
   ]
  },
  {
   "cell_type": "code",
   "execution_count": 112,
   "metadata": {},
   "outputs": [],
   "source": [
    "df_mom=pd.DataFrame({'Players':x,'Number of MOMs':y})"
   ]
  },
  {
   "cell_type": "code",
   "execution_count": 114,
   "metadata": {},
   "outputs": [],
   "source": [
    "#df_mom.to_excel('C:\\\\Users\\\\adity\\\\OneDrive\\\\Documents\\\\Python Scripts\\\\LiT DaC\\\\Man Of The Match.xlsx',index=False)"
   ]
  },
  {
   "cell_type": "code",
   "execution_count": null,
   "metadata": {},
   "outputs": [],
   "source": []
  }
 ],
 "metadata": {
  "kernelspec": {
   "display_name": "Python 3",
   "language": "python",
   "name": "python3"
  },
  "language_info": {
   "codemirror_mode": {
    "name": "ipython",
    "version": 3
   },
   "file_extension": ".py",
   "mimetype": "text/x-python",
   "name": "python",
   "nbconvert_exporter": "python",
   "pygments_lexer": "ipython3",
   "version": "3.8.5"
  }
 },
 "nbformat": 4,
 "nbformat_minor": 4
}
