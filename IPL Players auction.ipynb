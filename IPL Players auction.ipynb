{
 "cells": [
  {
   "cell_type": "code",
   "execution_count": 1,
   "metadata": {},
   "outputs": [],
   "source": [
    "import pandas as pd\n",
    "import numpy as np\n",
    "import time\n",
    "from datetime import datetime"
   ]
  },
  {
   "cell_type": "code",
   "execution_count": 2,
   "metadata": {},
   "outputs": [],
   "source": [
    "#ball=pd.read_csv('C:\\\\Users\\\\adity\\\\OneDrive\\\\Documents\\\\Python Scripts\\\\LiT DaC\\\\IPL_Ball_by_Ball_2008_2021.csv')\n",
    "#match=pd.read_csv('C:\\\\Users\\\\adity\\\\OneDrive\\\\Documents\\\\Python Scripts\\\\LiT DaC\\\\IPL_Matches_2008_2021.csv')\n",
    "\n",
    "#ball=pd.read_csv('IPL_Ball_by_Ball_2008_2021.csv')\n",
    "match=pd.read_csv('https://docs.google.com/spreadsheets/d/1zhpcj7_6Uq96UDNEi3ZS-bu5B3AXCXSRDeiHy0nvvfE/gviz/tq?tqx=out:csv')\n",
    "\n",
    "#match=pd.read_csv('IPL_Matches_2008_2021.csv')\n",
    "ball=pd.read_csv('https://docs.google.com/spreadsheets/d/1gFMly7K_tLPa2fdsImuCHPZ5o7BuXkL8C6jKmb6UuW0/gviz/tq?tqx=out:csv')\n"
   ]
  },
  {
   "cell_type": "code",
   "execution_count": 3,
   "metadata": {},
   "outputs": [],
   "source": [
    "def all_teams():\n",
    "    x=[]\n",
    "    for i in match['Team1Players']:\n",
    "        if i not in x:\n",
    "            x.append(i)\n",
    "\n",
    "    for i in match['Team2Players']:\n",
    "        if i not in x:\n",
    "            x.append(i)\n",
    "    return x"
   ]
  },
  {
   "cell_type": "code",
   "execution_count": 4,
   "metadata": {},
   "outputs": [],
   "source": [
    "def chemistry(name1,name2):\n",
    "    x=all_teams()\n",
    "    c=0\n",
    "    if name1==name2:\n",
    "        return 0\n",
    "    for i in x:\n",
    "        y=i.split(\"'\")[1::2]\n",
    "        #print(type(i))\n",
    "        #print(type(y),y)\n",
    "        if name1 in y and name2 in y:\n",
    "            c=c+1\n",
    "            #display(y)\n",
    "    #print(c)\n",
    "    return c"
   ]
  },
  {
   "cell_type": "code",
   "execution_count": 5,
   "metadata": {},
   "outputs": [
    {
     "data": {
      "text/plain": [
       "40"
      ]
     },
     "execution_count": 5,
     "metadata": {},
     "output_type": "execute_result"
    }
   ],
   "source": [
    "chemistry(\"V Kohli\",\"R Dravid\")"
   ]
  },
  {
   "cell_type": "markdown",
   "metadata": {},
   "source": []
  },
  {
   "cell_type": "code",
   "execution_count": 6,
   "metadata": {},
   "outputs": [],
   "source": [
    "def all_players(x):\n",
    "    y=set({})\n",
    "    for i in x:\n",
    "        zx=i.split(\"'\")\n",
    "        for j in zx:\n",
    "            if j!=', ' and j!='[' and j !=']':\n",
    "                y.add(j)\n",
    "    return list(y)\n",
    "#all_players(all_teams())"
   ]
  },
  {
   "cell_type": "code",
   "execution_count": 7,
   "metadata": {},
   "outputs": [],
   "source": [
    "def chem_all():\n",
    "    x=all_players(all_teams())\n",
    "    d=dict({'Player1':[],'Player2':[],'Chemistry':[]})\n",
    "    for i in range(0,len(x)-1):\n",
    "        for j in range(i+1,len(x)):\n",
    "            d['Player1'].append(x[i])\n",
    "            d['Player2'].append(x[j])\n",
    "            d['Chemistry'].append(chemistry(x[i],x[j]))\n",
    "            print(i,j,x[i],x[j])\n",
    "            \n",
    "    return pd.DataFrame(d)\n",
    "#chemistry_all_players=chem_all()"
   ]
  },
  {
   "cell_type": "markdown",
   "metadata": {},
   "source": []
  },
  {
   "cell_type": "code",
   "execution_count": 8,
   "metadata": {},
   "outputs": [],
   "source": [
    "def both_teams():\n",
    "    x=[]\n",
    "    y=[]\n",
    "    for i in match['Team1Players']:\n",
    "        x.append(i)\n",
    "\n",
    "    for i in match['Team2Players']:\n",
    "        y.append(i)\n",
    "    return x,y"
   ]
  },
  {
   "cell_type": "code",
   "execution_count": 9,
   "metadata": {},
   "outputs": [],
   "source": [
    "def against_chem(name1,name2):\n",
    "    x,y=both_teams()\n",
    "    c=0\n",
    "    for i in range(len(x)):\n",
    "        zx=x[i].split(\"'\")[1::2]\n",
    "        zy=y[i].split(\"'\")[1::2]\n",
    "        if (name1 in zx and name2 in zy) or (name1 in zy and name2 in zx):\n",
    "            c=c+1\n",
    "            \n",
    "        #if :\n",
    "            #c=c+1\n",
    "            #display(zx,zy)\n",
    "    #print(name1,name2,c)\n",
    "    return c\n",
    "        "
   ]
  },
  {
   "cell_type": "code",
   "execution_count": 10,
   "metadata": {},
   "outputs": [
    {
     "data": {
      "text/plain": [
       "3"
      ]
     },
     "execution_count": 10,
     "metadata": {},
     "output_type": "execute_result"
    }
   ],
   "source": [
    "against_chem('RA Jadeja','DJ Bravo')"
   ]
  },
  {
   "cell_type": "code",
   "execution_count": 11,
   "metadata": {},
   "outputs": [],
   "source": [
    "def bat_bowl():\n",
    "    bat=[]\n",
    "    bowl=[]\n",
    "    for i in ball['batter']:\n",
    "        if i not in bat:\n",
    "            bat.append(i)\n",
    "\n",
    "    for i in ball['bowler']:\n",
    "        if i not in bowl:\n",
    "            bowl.append(i)\n",
    "    #display(bat,bowl)\n",
    "    return bat,bowl\n"
   ]
  },
  {
   "cell_type": "code",
   "execution_count": 12,
   "metadata": {},
   "outputs": [],
   "source": [
    "def stats_compare(name1,name2,n):\n",
    "    #print(\"Start\",datetime.now())\n",
    "    bat,bowl=bat_bowl()\n",
    "    p1score=0\n",
    "    p2score=0\n",
    "    \n",
    "    #n=against_chem(name1,name2)\n",
    "    #print(\"END !\",datetime.now())\n",
    "    #print()\n",
    "    \n",
    "    if name1 in bat and name2 in bowl:\n",
    "        df1=ball[ball['batter']==name1]\n",
    "        df2=df1[df1['bowler']==name2]\n",
    "        #print(len(df2))\n",
    "        if(len(df2)==0):\n",
    "            p1score=0\n",
    "            p2score=0\n",
    "        else:\n",
    "            out=len(df2[df2['isWicketDelivery']==1])\n",
    "            balls_played=len(df2)\n",
    "            total_run = sum(df2['batsman_run'])\n",
    "            try:\n",
    "                p1score+=total_run/balls_played\n",
    "            except:\n",
    "                p1score+=total_run/1\n",
    "            try:\n",
    "                p2score+=out/n\n",
    "            except:\n",
    "                p2score+=out/1\n",
    "    #print(\"END 1\",datetime.now())\n",
    "    #print(p1score,p2score)\n",
    "    #print()\n",
    "    if name1 in bowl and name2 in bat:\n",
    "        df1=ball[ball['batter']==name2]\n",
    "        df2=df1[df1['bowler']==name1]\n",
    "        #print(len(df2))\n",
    "        if(len(df2)==0):\n",
    "            p1score=0\n",
    "            p2score=0\n",
    "        else:\n",
    "            out=len(df2[df2['isWicketDelivery']==1])\n",
    "            balls_played=len(df2)\n",
    "            total_run = sum(df2['batsman_run'])\n",
    "            try:\n",
    "                p2score+=total_run/balls_played\n",
    "            except:\n",
    "                p2score+=total_run/1\n",
    "            try:\n",
    "                p1score+=out/n\n",
    "            except:\n",
    "                p1score+=out/1\n",
    "    #print(\"End 2\",datetime.now())\n",
    "    #print(p1score,p2score)\n",
    "    #print()\n",
    "    #print()\n",
    "    #print(name1,name2,p1score,p2score)\n",
    "    return p1score,p2score"
   ]
  },
  {
   "cell_type": "code",
   "execution_count": 13,
   "metadata": {},
   "outputs": [
    {
     "data": {
      "text/plain": [
       "(0.0, 1.25)"
      ]
     },
     "execution_count": 13,
     "metadata": {},
     "output_type": "execute_result"
    }
   ],
   "source": [
    "stats_compare('DJ Bravo','RA Jadeja',against_chem('DJ Bravo','RA Jadeja'))"
   ]
  },
  {
   "cell_type": "markdown",
   "metadata": {},
   "source": [
    "def chem_one_vs_many(name,x):\n",
    "    s=0\n",
    "    for i in x:\n",
    "        #print(chemistry(name,i))\n",
    "        s=s+chemistry(name,i)\n",
    "    return s"
   ]
  },
  {
   "cell_type": "markdown",
   "metadata": {},
   "source": [
    "def chem_against_one_vs_many(name,x):\n",
    "    s=0\n",
    "    for i in x:\n",
    "        #print(against_chem(name,i))\n",
    "        s=s+against_chem(name,i)\n",
    "    return s"
   ]
  },
  {
   "cell_type": "markdown",
   "metadata": {},
   "source": [
    "def stats_compare_one_vs_many(name,x):\n",
    "    s=0\n",
    "    for i in x:\n",
    "        x,y=stats_compare(name,i)\n",
    "        s=s+x\n",
    "        #print(name,i,x)\n",
    "    return s"
   ]
  },
  {
   "cell_type": "code",
   "execution_count": 14,
   "metadata": {},
   "outputs": [],
   "source": [
    "def one_player_Against_all_teams(name,x):\n",
    "    s1=0\n",
    "    s2=0\n",
    "    s3=0\n",
    "    for i in x:\n",
    "        #print(i)\n",
    "        a=chemistry(name,i)\n",
    "        b=against_chem(name,i)\n",
    "        c=stats_compare(name,i,b)[0]\n",
    "        s1+=a\n",
    "        s2+=b\n",
    "        s3+=c\n",
    "        #print(name,i,a,b,c)\n",
    "    return s1,s2,s3\n",
    "def one_vs_all_team(name,t):\n",
    "    x={'CSK':\"['RD Gaikwad', 'F du Plessis', 'RV Uthappa', 'MM Ali', 'AT Rayudu', 'MS Dhoni', 'RA Jadeja', 'DJ Bravo', 'SN Thakur', 'DL Chahar', 'JR Hazlewood']\",\n",
    "       'RCB':\"['D Padikkal', 'V Kohli', 'KS Bharat', 'GJ Maxwell', 'AB de Villiers', 'Shahbaz Ahmed', 'DT Christian', 'HV Patel', 'GHS Garton', 'Mohammed Siraj', 'YS Chahal']\",\n",
    "       'DC':\"['PP Shaw', 'S Dhawan', 'SS Iyer', 'AR Patel', 'RR Pant', 'SO Hetmyer', 'TK Curran', 'R Ashwin', 'K Rabada', 'Avesh Khan', 'A Nortje']\",\n",
    "       'MI':\"['RG Sharma', 'Ishan Kishan', 'HH Pandya', 'KA Pollard', 'SA Yadav', 'JDS Neesham', 'KH Pandya', 'NM Coulter-Nile', 'PP Chawla', 'JJ Bumrah', 'TA Boult']\",\n",
    "       'GT':\"['SPD Smith', 'S Dhawan', 'SS Iyer', 'RR Pant', 'SO Hetmyer', 'Lalit Yadav', 'AR Patel', 'R Ashwin', 'K Rabada', 'Avesh Khan', 'A Nortje']\",\n",
    "       'PK':\"['KL Rahul', 'MA Agarwal', 'N Pooran', 'DJ Hooda', 'MC Henriques', 'M Shahrukh Khan', 'FA Allen', 'M Ashwin', 'Mohammed Shami', 'CH Gayle', 'Arshdeep Singh']\",\n",
    "       'KKR':\"['N Rana', 'Shubman Gill', 'RA Tripathi', 'SP Narine', 'EJG Morgan', 'KD Karthik', 'AD Russell', 'PJ Cummins', 'Shivam Mavi', 'M Prasidh Krishna', 'CV Varun']\",\n",
    "       'RR':\"['JC Buttler', 'M Vohra', 'SV Samson', 'DA Miller', 'S Dube', 'R Parag', 'R Tewatia', 'CH Morris', 'S Gopal', 'C Sakariya', 'Mustafizur Rahman']\",\n",
    "       'SRH':\"['DA Warner', 'JM Bairstow', 'MK Pandey', 'KS Williamson', 'PK Garg', 'V Shankar', 'Abhishek Sharma', 'Rashid Khan', 'Sandeep Sharma', 'KK Ahmed', 'T Natarajan']\"\n",
    "      }\n",
    "    y=list(x.keys())\n",
    "    s1=0\n",
    "    s2=0\n",
    "    s3=0\n",
    "    for i in y:\n",
    "        if i==t:\n",
    "            continue\n",
    "        m=x[i].split(\"'\")[1::2]\n",
    "        a,b,c=one_player_Against_all_teams(name,m)\n",
    "        s1+=a\n",
    "        s2+=b\n",
    "        s3+=c\n",
    "        print(name,i,a,b,c)\n",
    "    return s1,s2,s3"
   ]
  },
  {
   "cell_type": "code",
   "execution_count": 29,
   "metadata": {},
   "outputs": [
    {
     "name": "stdout",
     "output_type": "stream",
     "text": [
      "2022-11-24 10:24:11.541853\n",
      "KL Rahul CSK 0 97 7.437838523781229\n",
      "KL Rahul RCB 62 61 10.74642857142857\n",
      "KL Rahul DC 57 59 7.253763244428205\n",
      "KL Rahul MI 10 94 10.095603481187005\n",
      "KL Rahul GT 57 60 7.903763244428205\n",
      "KL Rahul KKR 6 81 9.359008164771954\n",
      "KL Rahul RR 13 64 12.143149254805962\n",
      "KL Rahul SRH 22 68 3.9210772833723655\n",
      "2022-11-24 10:25:15.841271\n"
     ]
    }
   ],
   "source": [
    "print(datetime.now())\n",
    "x=['RD Gaikwad', 'F du Plessis', 'RV Uthappa', 'MM Ali', 'AT Rayudu', 'MS Dhoni', 'RA Jadeja', 'DJ Bravo', 'SN Thakur', 'DL Chahar', 'JR Hazlewood']\n",
    "one_vs_all_team('KL Rahul','PK')\n",
    "print(datetime.now())"
   ]
  },
  {
   "cell_type": "code",
   "execution_count": 33,
   "metadata": {
    "scrolled": true
   },
   "outputs": [
    {
     "name": "stdout",
     "output_type": "stream",
     "text": [
      "2022-11-24 10:34:25.168990\n",
      "['KL Rahul', 'MA Agarwal', 'N Pooran', 'DJ Hooda', 'MC Henriques', 'M Shahrukh Khan', 'FA Allen', 'M Ashwin', 'Mohammed Shami', 'CH Gayle', 'Arshdeep Singh']\n",
      "KL Rahul CSK 0 97 7.437838523781229\n",
      "KL Rahul RCB 62 61 10.74642857142857\n",
      "KL Rahul DC 57 59 7.253763244428205\n",
      "KL Rahul MI 10 94 10.095603481187005\n",
      "KL Rahul GT 57 60 7.903763244428205\n",
      "KL Rahul KKR 6 81 9.359008164771954\n",
      "KL Rahul RR 13 64 12.143149254805962\n",
      "KL Rahul SRH 22 68 3.9210772833723655\n",
      "MA Agarwal CSK 6 96 7.52390780873753\n",
      "MA Agarwal RCB 74 53 10.394505494505495\n",
      "MA Agarwal DC 42 72 8.652685492801773\n",
      "MA Agarwal MI 22 79 9.471591371591373\n",
      "MA Agarwal GT 44 74 8.361018826135105\n",
      "MA Agarwal KKR 10 71 8.359844054580897\n",
      "MA Agarwal RR 17 57 8.269489247311828\n",
      "MA Agarwal SRH 0 59 4.068181818181818\n",
      "N Pooran CSK 0 34 6.331313131313131\n",
      "N Pooran RCB 10 35 2.5\n",
      "N Pooran DC 7 24 8.460317460317459\n",
      "N Pooran MI 5 35 7.854761904761905\n",
      "N Pooran GT 7 25 5.4603174603174605\n",
      "N Pooran KKR 0 45 4.196078431372548\n",
      "N Pooran RR 3 35 6.458333333333334\n",
      "N Pooran SRH 0 40 8.857142857142858\n",
      "DJ Hooda CSK 0 81 0.9411764705882353\n",
      "DJ Hooda RCB 7 51 0.5\n",
      "DJ Hooda DC 32 62 1.4107142857142858\n",
      "DJ Hooda MI 3 75 0.9285714285714286\n",
      "DJ Hooda GT 45 64 1.4107142857142858\n",
      "DJ Hooda KKR 7 74 0.26666666666666666\n",
      "DJ Hooda RR 39 54 0.16666666666666666\n",
      "DJ Hooda SRH 143 34 0.0\n",
      "MC Henriques CSK 0 44 1.6444444444444444\n",
      "MC Henriques RCB 26 36 3.7301587301587302\n",
      "MC Henriques DC 39 18 1.5761904761904761\n",
      "MC Henriques MI 4 47 2.787301587301587\n",
      "MC Henriques GT 39 24 1.5761904761904761\n",
      "MC Henriques KKR 15 38 1.457142857142857\n",
      "MC Henriques RR 14 29 0.125\n",
      "MC Henriques SRH 63 24 0.25\n",
      "M Shahrukh Khan CSK 0 20 5.924358974358974\n",
      "M Shahrukh Khan RCB 0 19 4.166666666666666\n",
      "M Shahrukh Khan DC 0 13 2.0\n",
      "M Shahrukh Khan MI 0 8 0\n",
      "M Shahrukh Khan GT 0 15 2.0\n",
      "M Shahrukh Khan KKR 0 19 4.335714285714285\n",
      "M Shahrukh Khan RR 0 10 3.0\n",
      "M Shahrukh Khan SRH 0 7 2.5999999999999996\n",
      "FA Allen CSK 0 0 0\n",
      "FA Allen RCB 0 0 0\n",
      "FA Allen DC 0 0 0\n",
      "FA Allen MI 0 8 0.0\n",
      "FA Allen GT 0 0 0\n",
      "FA Allen KKR 0 8 0.0\n",
      "FA Allen RR 0 6 0\n",
      "FA Allen SRH 0 7 1.0\n",
      "M Ashwin CSK 16 46 2.3095238095238093\n",
      "M Ashwin RCB 12 21 0.45\n",
      "M Ashwin DC 20 24 0.3333333333333333\n",
      "M Ashwin MI 4 31 0.5\n",
      "M Ashwin GT 28 22 0.3333333333333333\n",
      "M Ashwin KKR 0 28 0.2\n",
      "M Ashwin RR 8 34 1.5333333333333332\n",
      "M Ashwin SRH 0 27 0.5\n",
      "Mohammed Shami CSK 0 75 2.183333333333333\n",
      "Mohammed Shami RCB 15 55 6.877777777777778\n",
      "Mohammed Shami DC 50 61 4.7853535353535355\n",
      "Mohammed Shami MI 17 77 1.2325757575757574\n",
      "Mohammed Shami GT 50 62 4.6186868686868685\n",
      "Mohammed Shami KKR 24 68 2.061904761904762\n",
      "Mohammed Shami RR 42 51 1.8345238095238094\n",
      "Mohammed Shami SRH 4 60 1.1583333333333332\n",
      "CH Gayle CSK 0 102 3.385964912280702\n",
      "CH Gayle RCB 228 31 0\n",
      "CH Gayle DC 32 63 1.0\n",
      "CH Gayle MI 2 114 6.143540669856459\n",
      "CH Gayle GT 32 72 1.0\n",
      "CH Gayle KKR 14 83 0.05263157894736842\n",
      "CH Gayle RR 10 61 0.0\n",
      "CH Gayle SRH 0 76 1.0158730158730158\n",
      "Arshdeep Singh CSK 0 22 1.5\n",
      "Arshdeep Singh RCB 5 16 1.0\n",
      "Arshdeep Singh DC 3 14 0.5\n",
      "Arshdeep Singh MI 1 26 1.1666666666666665\n",
      "Arshdeep Singh GT 3 15 0.0\n",
      "Arshdeep Singh KKR 0 44 1.3333333333333333\n",
      "Arshdeep Singh RR 2 26 2.583333333333333\n",
      "Arshdeep Singh SRH 0 40 2.4333333333333336\n"
     ]
    },
    {
     "data": {
      "text/plain": [
       "'PK'"
      ]
     },
     "metadata": {},
     "output_type": "display_data"
    },
    {
     "data": {
      "text/plain": [
       "(1572, 3860, 281.90448859333526)"
      ]
     },
     "metadata": {},
     "output_type": "display_data"
    },
    {
     "name": "stdout",
     "output_type": "stream",
     "text": [
      "2022-11-24 10:45:42.233662\n",
      "677.0646715164185\n"
     ]
    }
   ],
   "source": [
    "start = time.time()\n",
    "print(datetime.now())\n",
    "def team_vs_team(team):\n",
    "    zx=team.split(\"'\")[1::2]\n",
    "    s=0\n",
    "    print(zx)\n",
    "    s1=0\n",
    "    s2=0\n",
    "    s3=0\n",
    "    for i in zx:\n",
    "        \n",
    "        a,b,c=one_vs_all_team(i,'PK')\n",
    "        s1+=a\n",
    "        s2+=b\n",
    "        s3+=c\n",
    "        \n",
    "        \n",
    "        #print(s1,s2,s3)\n",
    "    return s1,s2,s3\n",
    "x=\"['KL Rahul', 'MA Agarwal', 'N Pooran', 'DJ Hooda', 'MC Henriques', 'M Shahrukh Khan', 'FA Allen', 'M Ashwin', 'Mohammed Shami', 'CH Gayle', 'Arshdeep Singh']\"\n",
    "\n",
    "display('PK',team_vs_team(x))\n",
    "end = time.time()\n",
    "print(datetime.now())\n",
    "print(end - start)"
   ]
  },
  {
   "cell_type": "markdown",
   "metadata": {},
   "source": []
  },
  {
   "cell_type": "code",
   "execution_count": 16,
   "metadata": {},
   "outputs": [],
   "source": [
    "def players():\n",
    "    x=all_teams()\n",
    "    y=set({})\n",
    "    for i in x:\n",
    "        zx=i.split(\"'\")[1::2]\n",
    "        for j in zx:\n",
    "            y.add(j)\n",
    "    return list(y)"
   ]
  },
  {
   "cell_type": "code",
   "execution_count": 17,
   "metadata": {},
   "outputs": [
    {
     "name": "stdout",
     "output_type": "stream",
     "text": [
      "2022-11-24 12:12:47.524406\n",
      "A Ashish Reddy 0\n",
      "A Chandila 1\n",
      "A Chopra 2\n",
      "A Choudhary 3\n",
      "A Dananjaya 4\n",
      "A Flintoff 5\n",
      "A Kumble 6\n",
      "A Mishra 7\n",
      "A Mithun 8\n",
      "A Mukund 9\n",
      "A Nehra 10\n",
      "A Nel 11\n",
      "A Nortje 12\n",
      "A Singh 13\n",
      "A Symonds 14\n",
      "A Uniyal 15\n",
      "A Zampa 16\n",
      "AA Bilakhia 17\n",
      "AA Chavan 18\n",
      "AA Jhunjhunwala 19\n",
      "AA Kazi 20\n",
      "AA Noffke 21\n",
      "AB Agarkar 22\n",
      "AB Barath 23\n",
      "AB Dinda 24\n",
      "AB McDonald 25\n",
      "AB de Villiers 26\n",
      "AC Blizzard 27\n",
      "AC Gilchrist 28\n",
      "AC Thomas 29\n",
      "AC Voges 30\n",
      "AD Hales 31\n",
      "AD Mascarenhas 32\n",
      "AD Mathews 33\n",
      "AD Nath 34\n",
      "AD Russell 35\n",
      "AF Milne 36\n",
      "AG Murtaza 37\n",
      "AG Paunikar 38\n",
      "AJ Finch 39\n",
      "AJ Turner 40\n"
     ]
    },
    {
     "ename": "KeyboardInterrupt",
     "evalue": "",
     "output_type": "error",
     "traceback": [
      "\u001b[1;31m---------------------------------------------------------------------------\u001b[0m",
      "\u001b[1;31mKeyboardInterrupt\u001b[0m                         Traceback (most recent call last)",
      "\u001b[1;32m<ipython-input-17-261e61b2e81b>\u001b[0m in \u001b[0;36m<module>\u001b[1;34m\u001b[0m\n\u001b[0;32m      9\u001b[0m         \u001b[0mx\u001b[0m\u001b[1;33m[\u001b[0m\u001b[1;34m'Chemistry'\u001b[0m\u001b[1;33m]\u001b[0m\u001b[1;33m.\u001b[0m\u001b[0mappend\u001b[0m\u001b[1;33m(\u001b[0m\u001b[0mchemistry\u001b[0m\u001b[1;33m(\u001b[0m\u001b[0my\u001b[0m\u001b[1;33m[\u001b[0m\u001b[0mi\u001b[0m\u001b[1;33m]\u001b[0m\u001b[1;33m,\u001b[0m\u001b[0my\u001b[0m\u001b[1;33m[\u001b[0m\u001b[0mj\u001b[0m\u001b[1;33m]\u001b[0m\u001b[1;33m)\u001b[0m\u001b[1;33m)\u001b[0m\u001b[1;33m\u001b[0m\u001b[1;33m\u001b[0m\u001b[0m\n\u001b[0;32m     10\u001b[0m         \u001b[0mx\u001b[0m\u001b[1;33m[\u001b[0m\u001b[1;34m'Against Chemistry'\u001b[0m\u001b[1;33m]\u001b[0m\u001b[1;33m.\u001b[0m\u001b[0mappend\u001b[0m\u001b[1;33m(\u001b[0m\u001b[0magainst_chem\u001b[0m\u001b[1;33m(\u001b[0m\u001b[0my\u001b[0m\u001b[1;33m[\u001b[0m\u001b[0mi\u001b[0m\u001b[1;33m]\u001b[0m\u001b[1;33m,\u001b[0m\u001b[0my\u001b[0m\u001b[1;33m[\u001b[0m\u001b[0mj\u001b[0m\u001b[1;33m]\u001b[0m\u001b[1;33m)\u001b[0m\u001b[1;33m)\u001b[0m\u001b[1;33m\u001b[0m\u001b[1;33m\u001b[0m\u001b[0m\n\u001b[1;32m---> 11\u001b[1;33m         \u001b[0ma\u001b[0m\u001b[1;33m,\u001b[0m\u001b[0mb\u001b[0m\u001b[1;33m=\u001b[0m\u001b[0mstats_compare\u001b[0m\u001b[1;33m(\u001b[0m\u001b[0my\u001b[0m\u001b[1;33m[\u001b[0m\u001b[0mi\u001b[0m\u001b[1;33m]\u001b[0m\u001b[1;33m,\u001b[0m\u001b[0my\u001b[0m\u001b[1;33m[\u001b[0m\u001b[0mj\u001b[0m\u001b[1;33m]\u001b[0m\u001b[1;33m,\u001b[0m\u001b[0magainst_chem\u001b[0m\u001b[1;33m(\u001b[0m\u001b[0my\u001b[0m\u001b[1;33m[\u001b[0m\u001b[0mi\u001b[0m\u001b[1;33m]\u001b[0m\u001b[1;33m,\u001b[0m\u001b[0my\u001b[0m\u001b[1;33m[\u001b[0m\u001b[0mj\u001b[0m\u001b[1;33m]\u001b[0m\u001b[1;33m)\u001b[0m\u001b[1;33m)\u001b[0m\u001b[1;33m\u001b[0m\u001b[1;33m\u001b[0m\u001b[0m\n\u001b[0m\u001b[0;32m     12\u001b[0m         \u001b[0mx\u001b[0m\u001b[1;33m[\u001b[0m\u001b[1;34m'Stats Points Player 1'\u001b[0m\u001b[1;33m]\u001b[0m\u001b[1;33m.\u001b[0m\u001b[0mappend\u001b[0m\u001b[1;33m(\u001b[0m\u001b[0ma\u001b[0m\u001b[1;33m)\u001b[0m\u001b[1;33m\u001b[0m\u001b[1;33m\u001b[0m\u001b[0m\n\u001b[0;32m     13\u001b[0m         \u001b[0mx\u001b[0m\u001b[1;33m[\u001b[0m\u001b[1;34m'Stats Points Player 2'\u001b[0m\u001b[1;33m]\u001b[0m\u001b[1;33m.\u001b[0m\u001b[0mappend\u001b[0m\u001b[1;33m(\u001b[0m\u001b[0mb\u001b[0m\u001b[1;33m)\u001b[0m\u001b[1;33m\u001b[0m\u001b[1;33m\u001b[0m\u001b[0m\n",
      "\u001b[1;32m<ipython-input-12-5270393992d3>\u001b[0m in \u001b[0;36mstats_compare\u001b[1;34m(name1, name2, n)\u001b[0m\n\u001b[0;32m      1\u001b[0m \u001b[1;32mdef\u001b[0m \u001b[0mstats_compare\u001b[0m\u001b[1;33m(\u001b[0m\u001b[0mname1\u001b[0m\u001b[1;33m,\u001b[0m\u001b[0mname2\u001b[0m\u001b[1;33m,\u001b[0m\u001b[0mn\u001b[0m\u001b[1;33m)\u001b[0m\u001b[1;33m:\u001b[0m\u001b[1;33m\u001b[0m\u001b[1;33m\u001b[0m\u001b[0m\n\u001b[0;32m      2\u001b[0m     \u001b[1;31m#print(\"Start\",datetime.now())\u001b[0m\u001b[1;33m\u001b[0m\u001b[1;33m\u001b[0m\u001b[1;33m\u001b[0m\u001b[0m\n\u001b[1;32m----> 3\u001b[1;33m     \u001b[0mbat\u001b[0m\u001b[1;33m,\u001b[0m\u001b[0mbowl\u001b[0m\u001b[1;33m=\u001b[0m\u001b[0mbat_bowl\u001b[0m\u001b[1;33m(\u001b[0m\u001b[1;33m)\u001b[0m\u001b[1;33m\u001b[0m\u001b[1;33m\u001b[0m\u001b[0m\n\u001b[0m\u001b[0;32m      4\u001b[0m     \u001b[0mp1score\u001b[0m\u001b[1;33m=\u001b[0m\u001b[1;36m0\u001b[0m\u001b[1;33m\u001b[0m\u001b[1;33m\u001b[0m\u001b[0m\n\u001b[0;32m      5\u001b[0m     \u001b[0mp2score\u001b[0m\u001b[1;33m=\u001b[0m\u001b[1;36m0\u001b[0m\u001b[1;33m\u001b[0m\u001b[1;33m\u001b[0m\u001b[0m\n",
      "\u001b[1;32m<ipython-input-11-b836c9d9759e>\u001b[0m in \u001b[0;36mbat_bowl\u001b[1;34m()\u001b[0m\n\u001b[0;32m      8\u001b[0m     \u001b[1;32mfor\u001b[0m \u001b[0mi\u001b[0m \u001b[1;32min\u001b[0m \u001b[0mball\u001b[0m\u001b[1;33m[\u001b[0m\u001b[1;34m'bowler'\u001b[0m\u001b[1;33m]\u001b[0m\u001b[1;33m:\u001b[0m\u001b[1;33m\u001b[0m\u001b[1;33m\u001b[0m\u001b[0m\n\u001b[0;32m      9\u001b[0m         \u001b[1;32mif\u001b[0m \u001b[0mi\u001b[0m \u001b[1;32mnot\u001b[0m \u001b[1;32min\u001b[0m \u001b[0mbowl\u001b[0m\u001b[1;33m:\u001b[0m\u001b[1;33m\u001b[0m\u001b[1;33m\u001b[0m\u001b[0m\n\u001b[1;32m---> 10\u001b[1;33m             \u001b[0mbowl\u001b[0m\u001b[1;33m.\u001b[0m\u001b[0mappend\u001b[0m\u001b[1;33m(\u001b[0m\u001b[0mi\u001b[0m\u001b[1;33m)\u001b[0m\u001b[1;33m\u001b[0m\u001b[1;33m\u001b[0m\u001b[0m\n\u001b[0m\u001b[0;32m     11\u001b[0m     \u001b[1;31m#display(bat,bowl)\u001b[0m\u001b[1;33m\u001b[0m\u001b[1;33m\u001b[0m\u001b[1;33m\u001b[0m\u001b[0m\n\u001b[0;32m     12\u001b[0m     \u001b[1;32mreturn\u001b[0m \u001b[0mbat\u001b[0m\u001b[1;33m,\u001b[0m\u001b[0mbowl\u001b[0m\u001b[1;33m\u001b[0m\u001b[1;33m\u001b[0m\u001b[0m\n",
      "\u001b[1;31mKeyboardInterrupt\u001b[0m: "
     ]
    }
   ],
   "source": [
    "print(datetime.now())\n",
    "x={'Player 1':[],'Player 2':[],'Chemistry':[],'Against Chemistry':[],'Stats Points Player 1':[],'Stats Points Player 2':[]}\n",
    "y=players()\n",
    "y.sort()\n",
    "for i in range(len(y)-1):\n",
    "    for j in range(i+1,len(y)):\n",
    "        x['Player 1'].append(y[i])\n",
    "        x['Player 2'].append(y[j])\n",
    "        x['Chemistry'].append(chemistry(y[i],y[j]))\n",
    "        x['Against Chemistry'].append(against_chem(y[i],y[j]))\n",
    "        a,b=stats_compare(y[i],y[j],against_chem(y[i],y[j]))\n",
    "        x['Stats Points Player 1'].append(a)\n",
    "        x['Stats Points Player 2'].append(b)\n",
    "        #print(y[i],y[j])\n",
    "    print(y[i],i)\n",
    "df=pd.DataFrame(x)\n",
    "display(df)\n",
    "print(datetime.now())"
   ]
  },
  {
   "cell_type": "code",
   "execution_count": 22,
   "metadata": {},
   "outputs": [
    {
     "ename": "ValueError",
     "evalue": "arrays must all be same length",
     "output_type": "error",
     "traceback": [
      "\u001b[1;31m---------------------------------------------------------------------------\u001b[0m",
      "\u001b[1;31mValueError\u001b[0m                                Traceback (most recent call last)",
      "\u001b[1;32m<ipython-input-22-31ac0019d0de>\u001b[0m in \u001b[0;36m<module>\u001b[1;34m\u001b[0m\n\u001b[1;32m----> 1\u001b[1;33m \u001b[0mdf\u001b[0m\u001b[1;33m=\u001b[0m\u001b[0mpd\u001b[0m\u001b[1;33m.\u001b[0m\u001b[0mDataFrame\u001b[0m\u001b[1;33m(\u001b[0m\u001b[0mx\u001b[0m\u001b[1;33m)\u001b[0m\u001b[1;33m\u001b[0m\u001b[1;33m\u001b[0m\u001b[0m\n\u001b[0m\u001b[0;32m      2\u001b[0m \u001b[1;33m\u001b[0m\u001b[0m\n\u001b[0;32m      3\u001b[0m \u001b[0mdisplay\u001b[0m\u001b[1;33m(\u001b[0m\u001b[0mx\u001b[0m\u001b[1;33m)\u001b[0m\u001b[1;33m\u001b[0m\u001b[1;33m\u001b[0m\u001b[0m\n",
      "\u001b[1;32m~\\anaconda3\\lib\\site-packages\\pandas\\core\\frame.py\u001b[0m in \u001b[0;36m__init__\u001b[1;34m(self, data, index, columns, dtype, copy)\u001b[0m\n\u001b[0;32m    466\u001b[0m \u001b[1;33m\u001b[0m\u001b[0m\n\u001b[0;32m    467\u001b[0m         \u001b[1;32melif\u001b[0m \u001b[0misinstance\u001b[0m\u001b[1;33m(\u001b[0m\u001b[0mdata\u001b[0m\u001b[1;33m,\u001b[0m \u001b[0mdict\u001b[0m\u001b[1;33m)\u001b[0m\u001b[1;33m:\u001b[0m\u001b[1;33m\u001b[0m\u001b[1;33m\u001b[0m\u001b[0m\n\u001b[1;32m--> 468\u001b[1;33m             \u001b[0mmgr\u001b[0m \u001b[1;33m=\u001b[0m \u001b[0minit_dict\u001b[0m\u001b[1;33m(\u001b[0m\u001b[0mdata\u001b[0m\u001b[1;33m,\u001b[0m \u001b[0mindex\u001b[0m\u001b[1;33m,\u001b[0m \u001b[0mcolumns\u001b[0m\u001b[1;33m,\u001b[0m \u001b[0mdtype\u001b[0m\u001b[1;33m=\u001b[0m\u001b[0mdtype\u001b[0m\u001b[1;33m)\u001b[0m\u001b[1;33m\u001b[0m\u001b[1;33m\u001b[0m\u001b[0m\n\u001b[0m\u001b[0;32m    469\u001b[0m         \u001b[1;32melif\u001b[0m \u001b[0misinstance\u001b[0m\u001b[1;33m(\u001b[0m\u001b[0mdata\u001b[0m\u001b[1;33m,\u001b[0m \u001b[0mma\u001b[0m\u001b[1;33m.\u001b[0m\u001b[0mMaskedArray\u001b[0m\u001b[1;33m)\u001b[0m\u001b[1;33m:\u001b[0m\u001b[1;33m\u001b[0m\u001b[1;33m\u001b[0m\u001b[0m\n\u001b[0;32m    470\u001b[0m             \u001b[1;32mimport\u001b[0m \u001b[0mnumpy\u001b[0m\u001b[1;33m.\u001b[0m\u001b[0mma\u001b[0m\u001b[1;33m.\u001b[0m\u001b[0mmrecords\u001b[0m \u001b[1;32mas\u001b[0m \u001b[0mmrecords\u001b[0m\u001b[1;33m\u001b[0m\u001b[1;33m\u001b[0m\u001b[0m\n",
      "\u001b[1;32m~\\anaconda3\\lib\\site-packages\\pandas\\core\\internals\\construction.py\u001b[0m in \u001b[0;36minit_dict\u001b[1;34m(data, index, columns, dtype)\u001b[0m\n\u001b[0;32m    281\u001b[0m             \u001b[0marr\u001b[0m \u001b[1;32mif\u001b[0m \u001b[1;32mnot\u001b[0m \u001b[0mis_datetime64tz_dtype\u001b[0m\u001b[1;33m(\u001b[0m\u001b[0marr\u001b[0m\u001b[1;33m)\u001b[0m \u001b[1;32melse\u001b[0m \u001b[0marr\u001b[0m\u001b[1;33m.\u001b[0m\u001b[0mcopy\u001b[0m\u001b[1;33m(\u001b[0m\u001b[1;33m)\u001b[0m \u001b[1;32mfor\u001b[0m \u001b[0marr\u001b[0m \u001b[1;32min\u001b[0m \u001b[0marrays\u001b[0m\u001b[1;33m\u001b[0m\u001b[1;33m\u001b[0m\u001b[0m\n\u001b[0;32m    282\u001b[0m         ]\n\u001b[1;32m--> 283\u001b[1;33m     \u001b[1;32mreturn\u001b[0m \u001b[0marrays_to_mgr\u001b[0m\u001b[1;33m(\u001b[0m\u001b[0marrays\u001b[0m\u001b[1;33m,\u001b[0m \u001b[0mdata_names\u001b[0m\u001b[1;33m,\u001b[0m \u001b[0mindex\u001b[0m\u001b[1;33m,\u001b[0m \u001b[0mcolumns\u001b[0m\u001b[1;33m,\u001b[0m \u001b[0mdtype\u001b[0m\u001b[1;33m=\u001b[0m\u001b[0mdtype\u001b[0m\u001b[1;33m)\u001b[0m\u001b[1;33m\u001b[0m\u001b[1;33m\u001b[0m\u001b[0m\n\u001b[0m\u001b[0;32m    284\u001b[0m \u001b[1;33m\u001b[0m\u001b[0m\n\u001b[0;32m    285\u001b[0m \u001b[1;33m\u001b[0m\u001b[0m\n",
      "\u001b[1;32m~\\anaconda3\\lib\\site-packages\\pandas\\core\\internals\\construction.py\u001b[0m in \u001b[0;36marrays_to_mgr\u001b[1;34m(arrays, arr_names, index, columns, dtype, verify_integrity)\u001b[0m\n\u001b[0;32m     76\u001b[0m         \u001b[1;31m# figure out the index, if necessary\u001b[0m\u001b[1;33m\u001b[0m\u001b[1;33m\u001b[0m\u001b[1;33m\u001b[0m\u001b[0m\n\u001b[0;32m     77\u001b[0m         \u001b[1;32mif\u001b[0m \u001b[0mindex\u001b[0m \u001b[1;32mis\u001b[0m \u001b[1;32mNone\u001b[0m\u001b[1;33m:\u001b[0m\u001b[1;33m\u001b[0m\u001b[1;33m\u001b[0m\u001b[0m\n\u001b[1;32m---> 78\u001b[1;33m             \u001b[0mindex\u001b[0m \u001b[1;33m=\u001b[0m \u001b[0mextract_index\u001b[0m\u001b[1;33m(\u001b[0m\u001b[0marrays\u001b[0m\u001b[1;33m)\u001b[0m\u001b[1;33m\u001b[0m\u001b[1;33m\u001b[0m\u001b[0m\n\u001b[0m\u001b[0;32m     79\u001b[0m         \u001b[1;32melse\u001b[0m\u001b[1;33m:\u001b[0m\u001b[1;33m\u001b[0m\u001b[1;33m\u001b[0m\u001b[0m\n\u001b[0;32m     80\u001b[0m             \u001b[0mindex\u001b[0m \u001b[1;33m=\u001b[0m \u001b[0mensure_index\u001b[0m\u001b[1;33m(\u001b[0m\u001b[0mindex\u001b[0m\u001b[1;33m)\u001b[0m\u001b[1;33m\u001b[0m\u001b[1;33m\u001b[0m\u001b[0m\n",
      "\u001b[1;32m~\\anaconda3\\lib\\site-packages\\pandas\\core\\internals\\construction.py\u001b[0m in \u001b[0;36mextract_index\u001b[1;34m(data)\u001b[0m\n\u001b[0;32m    395\u001b[0m             \u001b[0mlengths\u001b[0m \u001b[1;33m=\u001b[0m \u001b[0mlist\u001b[0m\u001b[1;33m(\u001b[0m\u001b[0mset\u001b[0m\u001b[1;33m(\u001b[0m\u001b[0mraw_lengths\u001b[0m\u001b[1;33m)\u001b[0m\u001b[1;33m)\u001b[0m\u001b[1;33m\u001b[0m\u001b[1;33m\u001b[0m\u001b[0m\n\u001b[0;32m    396\u001b[0m             \u001b[1;32mif\u001b[0m \u001b[0mlen\u001b[0m\u001b[1;33m(\u001b[0m\u001b[0mlengths\u001b[0m\u001b[1;33m)\u001b[0m \u001b[1;33m>\u001b[0m \u001b[1;36m1\u001b[0m\u001b[1;33m:\u001b[0m\u001b[1;33m\u001b[0m\u001b[1;33m\u001b[0m\u001b[0m\n\u001b[1;32m--> 397\u001b[1;33m                 \u001b[1;32mraise\u001b[0m \u001b[0mValueError\u001b[0m\u001b[1;33m(\u001b[0m\u001b[1;34m\"arrays must all be same length\"\u001b[0m\u001b[1;33m)\u001b[0m\u001b[1;33m\u001b[0m\u001b[1;33m\u001b[0m\u001b[0m\n\u001b[0m\u001b[0;32m    398\u001b[0m \u001b[1;33m\u001b[0m\u001b[0m\n\u001b[0;32m    399\u001b[0m             \u001b[1;32mif\u001b[0m \u001b[0mhave_dicts\u001b[0m\u001b[1;33m:\u001b[0m\u001b[1;33m\u001b[0m\u001b[1;33m\u001b[0m\u001b[0m\n",
      "\u001b[1;31mValueError\u001b[0m: arrays must all be same length"
     ]
    }
   ],
   "source": [
    "df=pd.DataFrame(x)\n",
    "\n",
    "display(x)"
   ]
  },
  {
   "cell_type": "code",
   "execution_count": null,
   "metadata": {},
   "outputs": [],
   "source": [
    "all_details=pd.read_csv('')\n",
    "a='KA Pollard'\n",
    "b=\"['KL Rahul', 'MA Agarwal', 'N Pooran', 'DJ Hooda', 'MC Henriques', 'M Shahrukh Khan', 'FA Allen', 'M Ashwin', 'Mohammed Shami', 'CH Gayle', 'Arshdeep Singh']\"\n",
    "p_1=0\n",
    "p_2=0\n",
    "zx=b.split(\"'\")[1::2]\n",
    "for i in all_details.index:\n",
    "    if all_details['Player 1'][i] in zx and all_details['Player 2'][i]==a:\n",
    "        p_1=p_1+all_details(all_details['Stats Points Player 2'][i])\n",
    "        p_2=p_2+all_details(all_details['Stats Points Player 1'][i])\n",
    "        \n",
    "        \n",
    "    if all_details['Player 1'][i] == a and all_details['Player 2'][i] in zx:\n",
    "        p_1=p_1+all_details(all_details['Stats Points Player 1'][i])\n",
    "        p_2=p_2+all_details(all_details['Stats Points Player 2'][i])"
   ]
  },
  {
   "cell_type": "code",
   "execution_count": 23,
   "metadata": {},
   "outputs": [],
   "source": [
    "x={'Name':[],'Runs':[],'Balls':[],'Wickets Taken':[],'Matches Played':[]}\n",
    "for i in y:\n",
    "    df_b=ball[ball['batter']==i]\n",
    "    x['Name'].append(i)\n",
    "    try:\n",
    "        x['Runs'].append(sum(df_b['batsman_run']))\n",
    "        x['Balls'].append(len(df_b))\n",
    "    except:\n",
    "        x['Runs'].append(0)\n",
    "        x['Balls'].append(0)\n",
    "    \n",
    "    df_b=ball[ball['bowler']==i]\n",
    "    try:\n",
    "        x['Wickets Taken'].append(sum(df_b['isWicketDelivery']))\n",
    "        x['Matches Played'].append(len(df_b['ID'].unique()))\n",
    "    except:\n",
    "        x['Wickets Taken'].append(0)\n",
    "        x['Matches Played'].append(0)\n"
   ]
  },
  {
   "cell_type": "code",
   "execution_count": 24,
   "metadata": {},
   "outputs": [
    {
     "data": {
      "text/html": [
       "<div>\n",
       "<style scoped>\n",
       "    .dataframe tbody tr th:only-of-type {\n",
       "        vertical-align: middle;\n",
       "    }\n",
       "\n",
       "    .dataframe tbody tr th {\n",
       "        vertical-align: top;\n",
       "    }\n",
       "\n",
       "    .dataframe thead th {\n",
       "        text-align: right;\n",
       "    }\n",
       "</style>\n",
       "<table border=\"1\" class=\"dataframe\">\n",
       "  <thead>\n",
       "    <tr style=\"text-align: right;\">\n",
       "      <th></th>\n",
       "      <th>Name</th>\n",
       "      <th>Runs</th>\n",
       "      <th>Balls</th>\n",
       "      <th>Wickets Taken</th>\n",
       "      <th>Matches Played</th>\n",
       "    </tr>\n",
       "  </thead>\n",
       "  <tbody>\n",
       "    <tr>\n",
       "      <th>0</th>\n",
       "      <td>Kuldeep Yadav</td>\n",
       "      <td>57</td>\n",
       "      <td>76</td>\n",
       "      <td>43</td>\n",
       "      <td>43</td>\n",
       "    </tr>\n",
       "    <tr>\n",
       "      <th>1</th>\n",
       "      <td>BW Hilfenhaus</td>\n",
       "      <td>0</td>\n",
       "      <td>0</td>\n",
       "      <td>23</td>\n",
       "      <td>17</td>\n",
       "    </tr>\n",
       "    <tr>\n",
       "      <th>2</th>\n",
       "      <td>SB Jakati</td>\n",
       "      <td>28</td>\n",
       "      <td>30</td>\n",
       "      <td>50</td>\n",
       "      <td>57</td>\n",
       "    </tr>\n",
       "    <tr>\n",
       "      <th>3</th>\n",
       "      <td>Gagandeep Singh</td>\n",
       "      <td>0</td>\n",
       "      <td>0</td>\n",
       "      <td>3</td>\n",
       "      <td>4</td>\n",
       "    </tr>\n",
       "    <tr>\n",
       "      <th>4</th>\n",
       "      <td>YA Abdulla</td>\n",
       "      <td>0</td>\n",
       "      <td>1</td>\n",
       "      <td>15</td>\n",
       "      <td>11</td>\n",
       "    </tr>\n",
       "    <tr>\n",
       "      <th>...</th>\n",
       "      <td>...</td>\n",
       "      <td>...</td>\n",
       "      <td>...</td>\n",
       "      <td>...</td>\n",
       "      <td>...</td>\n",
       "    </tr>\n",
       "    <tr>\n",
       "      <th>608</th>\n",
       "      <td>R Vinay Kumar</td>\n",
       "      <td>310</td>\n",
       "      <td>289</td>\n",
       "      <td>127</td>\n",
       "      <td>104</td>\n",
       "    </tr>\n",
       "    <tr>\n",
       "      <th>609</th>\n",
       "      <td>PP Shaw</td>\n",
       "      <td>1305</td>\n",
       "      <td>913</td>\n",
       "      <td>0</td>\n",
       "      <td>0</td>\n",
       "    </tr>\n",
       "    <tr>\n",
       "      <th>610</th>\n",
       "      <td>I Sharma</td>\n",
       "      <td>55</td>\n",
       "      <td>62</td>\n",
       "      <td>74</td>\n",
       "      <td>93</td>\n",
       "    </tr>\n",
       "    <tr>\n",
       "      <th>611</th>\n",
       "      <td>BB Sran</td>\n",
       "      <td>10</td>\n",
       "      <td>14</td>\n",
       "      <td>20</td>\n",
       "      <td>24</td>\n",
       "    </tr>\n",
       "    <tr>\n",
       "      <th>612</th>\n",
       "      <td>JM Bairstow</td>\n",
       "      <td>1038</td>\n",
       "      <td>755</td>\n",
       "      <td>0</td>\n",
       "      <td>0</td>\n",
       "    </tr>\n",
       "  </tbody>\n",
       "</table>\n",
       "<p>613 rows × 5 columns</p>\n",
       "</div>"
      ],
      "text/plain": [
       "                Name  Runs  Balls  Wickets Taken  Matches Played\n",
       "0      Kuldeep Yadav    57     76             43              43\n",
       "1      BW Hilfenhaus     0      0             23              17\n",
       "2          SB Jakati    28     30             50              57\n",
       "3    Gagandeep Singh     0      0              3               4\n",
       "4         YA Abdulla     0      1             15              11\n",
       "..               ...   ...    ...            ...             ...\n",
       "608    R Vinay Kumar   310    289            127             104\n",
       "609          PP Shaw  1305    913              0               0\n",
       "610         I Sharma    55     62             74              93\n",
       "611          BB Sran    10     14             20              24\n",
       "612      JM Bairstow  1038    755              0               0\n",
       "\n",
       "[613 rows x 5 columns]"
      ]
     },
     "execution_count": 24,
     "metadata": {},
     "output_type": "execute_result"
    }
   ],
   "source": [
    "x=pd.DataFrame(x)\n",
    "x"
   ]
  },
  {
   "cell_type": "code",
   "execution_count": 25,
   "metadata": {},
   "outputs": [],
   "source": [
    "#x.to_excel('C:\\\\Users\\\\adity\\\\OneDrive\\\\Documents\\\\Python Scripts\\\\LiT DaC\\\\Players.xlsx')"
   ]
  },
  {
   "cell_type": "markdown",
   "metadata": {},
   "source": []
  },
  {
   "cell_type": "code",
   "execution_count": null,
   "metadata": {},
   "outputs": [],
   "source": []
  }
 ],
 "metadata": {
  "kernelspec": {
   "display_name": "Python 3",
   "language": "python",
   "name": "python3"
  },
  "language_info": {
   "codemirror_mode": {
    "name": "ipython",
    "version": 3
   },
   "file_extension": ".py",
   "mimetype": "text/x-python",
   "name": "python",
   "nbconvert_exporter": "python",
   "pygments_lexer": "ipython3",
   "version": "3.8.5"
  }
 },
 "nbformat": 4,
 "nbformat_minor": 4
}
